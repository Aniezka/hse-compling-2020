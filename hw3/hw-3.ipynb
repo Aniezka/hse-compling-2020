{
 "cells": [
  {
   "cell_type": "code",
   "execution_count": 2,
   "metadata": {},
   "outputs": [],
   "source": [
    "from sklearn.naive_bayes import MultinomialNB\n",
    "import numpy as np\n",
    "import pandas as pd\n",
    "from sklearn.metrics import roc_auc_score, roc_curve\n",
    "from sklearn.metrics import precision_recall_fscore_support\n",
    "from matplotlib import pyplot\n",
    "import os\n",
    "import string\n",
    "from pymorphy2 import MorphAnalyzer\n",
    "from razdel import tokenize\n",
    "from nltk.corpus import stopwords\n",
    "from tqdm import tqdm"
   ]
  },
  {
   "cell_type": "code",
   "execution_count": 3,
   "metadata": {},
   "outputs": [],
   "source": [
    "morph = MorphAnalyzer()\n",
    "stop = set(stopwords.words('russian'))\n",
    "\n",
    "def my_preprocess(text: str):\n",
    "    text = str(text)\n",
    "    text = text.replace(\"\\n\", \" \").replace('/', ' ')\n",
    "    text = text.lower()\n",
    "    text = text.translate(str.maketrans('', '', string.punctuation))\n",
    "    tokenized_text = list(tokenize(text))\n",
    "    lemm = [morph.parse(i.text)[0].normal_form for i in tokenized_text]\n",
    "    words = [i for i in lemm if i not in stop]\n",
    "    return \" \".join(words)\n"
   ]
  },
  {
   "cell_type": "markdown",
   "metadata": {},
   "source": [
    "### Load and normalize train texts"
   ]
  },
  {
   "cell_type": "code",
   "execution_count": 5,
   "metadata": {},
   "outputs": [],
   "source": [
    "path_to_folder_neg = \"aclimdb/train/neg/\"\n",
    "path_to_folder_pos = \"aclimdb/train/pos/\"\n",
    "texts = [] \n",
    "for file in os.listdir(path_to_folder_neg): \n",
    "    if file.endswith('.txt'): \n",
    "        with open(path_to_folder_neg + file, \"r\") as f:\n",
    "            texts.append((file, f.read(), 0))\n",
    "\n",
    "for file in os.listdir(path_to_folder_pos): \n",
    "    if file.endswith('.txt'): \n",
    "        with open(path_to_folder_pos + file, \"r\") as f:\n",
    "            texts.append((file, f.read(), 1))"
   ]
  },
  {
   "cell_type": "code",
   "execution_count": 6,
   "metadata": {},
   "outputs": [
    {
     "name": "stderr",
     "output_type": "stream",
     "text": [
      "100%|██████████| 25000/25000 [02:22<00:00, 175.91it/s]\n"
     ]
    },
    {
     "data": {
      "text/html": [
       "<div>\n",
       "<style scoped>\n",
       "    .dataframe tbody tr th:only-of-type {\n",
       "        vertical-align: middle;\n",
       "    }\n",
       "\n",
       "    .dataframe tbody tr th {\n",
       "        vertical-align: top;\n",
       "    }\n",
       "\n",
       "    .dataframe thead th {\n",
       "        text-align: right;\n",
       "    }\n",
       "</style>\n",
       "<table border=\"1\" class=\"dataframe\">\n",
       "  <thead>\n",
       "    <tr style=\"text-align: right;\">\n",
       "      <th></th>\n",
       "      <th>filename</th>\n",
       "      <th>text</th>\n",
       "      <th>posLabel</th>\n",
       "      <th>normalizedText</th>\n",
       "    </tr>\n",
       "  </thead>\n",
       "  <tbody>\n",
       "    <tr>\n",
       "      <th>0</th>\n",
       "      <td>1821_4.txt</td>\n",
       "      <td>Working with one of the best Shakespeare sourc...</td>\n",
       "      <td>0</td>\n",
       "      <td>working with one of the best shakespeare sourc...</td>\n",
       "    </tr>\n",
       "    <tr>\n",
       "      <th>1</th>\n",
       "      <td>10402_1.txt</td>\n",
       "      <td>Well...tremors I, the original started off in ...</td>\n",
       "      <td>0</td>\n",
       "      <td>welltremors i the original started off in 1990...</td>\n",
       "    </tr>\n",
       "    <tr>\n",
       "      <th>2</th>\n",
       "      <td>1062_4.txt</td>\n",
       "      <td>Ouch! This one was a bit painful to sit throug...</td>\n",
       "      <td>0</td>\n",
       "      <td>ouch this one was a bit painful to sit through...</td>\n",
       "    </tr>\n",
       "    <tr>\n",
       "      <th>3</th>\n",
       "      <td>9056_1.txt</td>\n",
       "      <td>I've seen some crappy movies in my life, but t...</td>\n",
       "      <td>0</td>\n",
       "      <td>ive seen some crappy movies in my life but thi...</td>\n",
       "    </tr>\n",
       "    <tr>\n",
       "      <th>4</th>\n",
       "      <td>5392_3.txt</td>\n",
       "      <td>\"Carriers\" follows the exploits of two guys an...</td>\n",
       "      <td>0</td>\n",
       "      <td>carriers follows the exploits of two guys and ...</td>\n",
       "    </tr>\n",
       "  </tbody>\n",
       "</table>\n",
       "</div>"
      ],
      "text/plain": [
       "      filename                                               text  posLabel  \\\n",
       "0   1821_4.txt  Working with one of the best Shakespeare sourc...         0   \n",
       "1  10402_1.txt  Well...tremors I, the original started off in ...         0   \n",
       "2   1062_4.txt  Ouch! This one was a bit painful to sit throug...         0   \n",
       "3   9056_1.txt  I've seen some crappy movies in my life, but t...         0   \n",
       "4   5392_3.txt  \"Carriers\" follows the exploits of two guys an...         0   \n",
       "\n",
       "                                      normalizedText  \n",
       "0  working with one of the best shakespeare sourc...  \n",
       "1  welltremors i the original started off in 1990...  \n",
       "2  ouch this one was a bit painful to sit through...  \n",
       "3  ive seen some crappy movies in my life but thi...  \n",
       "4  carriers follows the exploits of two guys and ...  "
      ]
     },
     "execution_count": 6,
     "metadata": {},
     "output_type": "execute_result"
    }
   ],
   "source": [
    "data_train = pd.DataFrame(texts, columns=['filename', 'text', 'posLabel'])\n",
    "buf_arr = []\n",
    "\n",
    "for i in tqdm(data_train.text.values):\n",
    "    buf_arr.append(my_preprocess(i))\n",
    "\n",
    "data_train['normalizedText'] = buf_arr\n",
    "data_train.head()"
   ]
  },
  {
   "cell_type": "markdown",
   "metadata": {},
   "source": [
    "### Load and normalized test texts"
   ]
  },
  {
   "cell_type": "code",
   "execution_count": 7,
   "metadata": {},
   "outputs": [],
   "source": [
    "path_to_folder_neg = \"aclimdb/test/neg/\"\n",
    "path_to_folder_pos = \"aclimdb/test/pos/\"\n",
    "texts = [] \n",
    "for file in os.listdir(path_to_folder_neg): \n",
    "    if file.endswith('.txt'): \n",
    "        with open(path_to_folder_neg + file, \"r\") as f:\n",
    "            texts.append((file, f.read(), 0))\n",
    "\n",
    "for file in os.listdir(path_to_folder_pos): \n",
    "    if file.endswith('.txt'): \n",
    "        with open(path_to_folder_pos + file, \"r\") as f:\n",
    "            texts.append((file, f.read(), 1))"
   ]
  },
  {
   "cell_type": "code",
   "execution_count": 8,
   "metadata": {},
   "outputs": [
    {
     "name": "stderr",
     "output_type": "stream",
     "text": [
      "100%|██████████| 25000/25000 [02:19<00:00, 178.64it/s]\n"
     ]
    },
    {
     "data": {
      "text/html": [
       "<div>\n",
       "<style scoped>\n",
       "    .dataframe tbody tr th:only-of-type {\n",
       "        vertical-align: middle;\n",
       "    }\n",
       "\n",
       "    .dataframe tbody tr th {\n",
       "        vertical-align: top;\n",
       "    }\n",
       "\n",
       "    .dataframe thead th {\n",
       "        text-align: right;\n",
       "    }\n",
       "</style>\n",
       "<table border=\"1\" class=\"dataframe\">\n",
       "  <thead>\n",
       "    <tr style=\"text-align: right;\">\n",
       "      <th></th>\n",
       "      <th>filename</th>\n",
       "      <th>text</th>\n",
       "      <th>posLabel</th>\n",
       "      <th>normalizedText</th>\n",
       "    </tr>\n",
       "  </thead>\n",
       "  <tbody>\n",
       "    <tr>\n",
       "      <th>0</th>\n",
       "      <td>1821_4.txt</td>\n",
       "      <td>Alan Rickman &amp; Emma Thompson give good perform...</td>\n",
       "      <td>0</td>\n",
       "      <td>alan rickman emma thompson give good performan...</td>\n",
       "    </tr>\n",
       "    <tr>\n",
       "      <th>1</th>\n",
       "      <td>9487_1.txt</td>\n",
       "      <td>I have seen this movie and I did not care for ...</td>\n",
       "      <td>0</td>\n",
       "      <td>i have seen this movie and i did not care for ...</td>\n",
       "    </tr>\n",
       "    <tr>\n",
       "      <th>2</th>\n",
       "      <td>4604_4.txt</td>\n",
       "      <td>In Los Angeles, the alcoholic and lazy Hank Ch...</td>\n",
       "      <td>0</td>\n",
       "      <td>in los angeles the alcoholic and lazy hank chi...</td>\n",
       "    </tr>\n",
       "    <tr>\n",
       "      <th>3</th>\n",
       "      <td>2828_2.txt</td>\n",
       "      <td>This film is bundled along with \"Gli fumavano ...</td>\n",
       "      <td>0</td>\n",
       "      <td>this film is bundled along with gli fumavano l...</td>\n",
       "    </tr>\n",
       "    <tr>\n",
       "      <th>4</th>\n",
       "      <td>10890_1.txt</td>\n",
       "      <td>I only comment on really very good films and o...</td>\n",
       "      <td>0</td>\n",
       "      <td>i only comment on really very good films and o...</td>\n",
       "    </tr>\n",
       "  </tbody>\n",
       "</table>\n",
       "</div>"
      ],
      "text/plain": [
       "      filename                                               text  posLabel  \\\n",
       "0   1821_4.txt  Alan Rickman & Emma Thompson give good perform...         0   \n",
       "1   9487_1.txt  I have seen this movie and I did not care for ...         0   \n",
       "2   4604_4.txt  In Los Angeles, the alcoholic and lazy Hank Ch...         0   \n",
       "3   2828_2.txt  This film is bundled along with \"Gli fumavano ...         0   \n",
       "4  10890_1.txt  I only comment on really very good films and o...         0   \n",
       "\n",
       "                                      normalizedText  \n",
       "0  alan rickman emma thompson give good performan...  \n",
       "1  i have seen this movie and i did not care for ...  \n",
       "2  in los angeles the alcoholic and lazy hank chi...  \n",
       "3  this film is bundled along with gli fumavano l...  \n",
       "4  i only comment on really very good films and o...  "
      ]
     },
     "execution_count": 8,
     "metadata": {},
     "output_type": "execute_result"
    }
   ],
   "source": [
    "data_test = pd.DataFrame(texts, columns=['filename', 'text', 'posLabel'])\n",
    "buf_arr = []\n",
    "\n",
    "for i in tqdm(data_test.text.values):\n",
    "    buf_arr.append(my_preprocess(i))\n",
    "\n",
    "data_test['normalizedText'] = buf_arr\n",
    "data_test.head()"
   ]
  },
  {
   "cell_type": "markdown",
   "metadata": {},
   "source": [
    "## Ваша задача в sklearn, используя один из алгоритмов, рассмотренных на паре, построить и обучить классификатор, посчитать метрики качества, построить ROC кривую и посчитайте величину ROC AUC."
   ]
  },
  {
   "cell_type": "markdown",
   "metadata": {},
   "source": [
    "#### Create CountVectorizer and fit MultinominalNB"
   ]
  },
  {
   "cell_type": "code",
   "execution_count": 9,
   "metadata": {},
   "outputs": [
    {
     "data": {
      "text/plain": [
       "(25000, 116551)"
      ]
     },
     "execution_count": 9,
     "metadata": {},
     "output_type": "execute_result"
    }
   ],
   "source": [
    "from sklearn.feature_extraction.text import CountVectorizer\n",
    "\n",
    "count_vect = CountVectorizer()\n",
    "#Learn the vocabulary dictionary and return term-document matrix.\n",
    "X_train_counts = count_vect.fit_transform(data_train.normalizedText)\n",
    "X_test = count_vect.transform(data_test.normalizedText)\n",
    "X_train_counts.shape"
   ]
  },
  {
   "cell_type": "code",
   "execution_count": 10,
   "metadata": {},
   "outputs": [],
   "source": [
    "clf = MultinomialNB().fit(X_train_counts, data_train.posLabel)\n",
    "\n",
    "y_true = np.array(data_test.posLabel.values)\n",
    "y_pred = np.array(clf.predict(X_test))\n",
    "y_pred_proba = np.array([1 - i[0] for i in clf.predict_proba(X_test)])"
   ]
  },
  {
   "cell_type": "code",
   "execution_count": 11,
   "metadata": {},
   "outputs": [
    {
     "data": {
      "text/plain": [
       "(25000,)"
      ]
     },
     "execution_count": 11,
     "metadata": {},
     "output_type": "execute_result"
    }
   ],
   "source": [
    "y_pred_proba.shape"
   ]
  },
  {
   "cell_type": "code",
   "execution_count": 12,
   "metadata": {},
   "outputs": [
    {
     "data": {
      "text/plain": [
       "(25000,)"
      ]
     },
     "execution_count": 12,
     "metadata": {},
     "output_type": "execute_result"
    }
   ],
   "source": [
    "np.array(y_pred).shape"
   ]
  },
  {
   "cell_type": "code",
   "execution_count": 13,
   "metadata": {},
   "outputs": [
    {
     "name": "stdout",
     "output_type": "stream",
     "text": [
      "ROC AUC value:  0.81444\n"
     ]
    },
    {
     "data": {
      "image/png": "[encoded data removed]",
      "text/plain": [
       "<Figure size 432x288 with 1 Axes>"
      ]
     },
     "metadata": {
      "needs_background": "light"
     },
     "output_type": "display_data"
    }
   ],
   "source": [
    "fpr, tpr, thrhld = roc_curve(y_true, y_pred_proba)\n",
    "print(\"ROC AUC value: \", roc_auc_score(y_true, y_pred))\n",
    "pyplot.plot(fpr, tpr, marker='.', label='Test')\n",
    "# axis labels\n",
    "pyplot.xlabel('False Positive Rate')\n",
    "pyplot.ylabel('True Positive Rate')\n",
    "# show the legend\n",
    "pyplot.legend()\n",
    "# show the plot\n",
    "pyplot.show()"
   ]
  },
  {
   "cell_type": "code",
   "execution_count": 14,
   "metadata": {},
   "outputs": [
    {
     "name": "stdout",
     "output_type": "stream",
     "text": [
      "Precision: 0.8594421582075903\n",
      "Recall: 0.75184\n",
      "F1 score: 0.8020482184766374\n",
      "ROC AUC value: 0.81444\n"
     ]
    }
   ],
   "source": [
    "prec, rec, fs, _ = precision_recall_fscore_support(y_true, y_pred, average=\"binary\")\n",
    "\n",
    "print(\"Precision:\", prec)\n",
    "print(\"Recall:\", rec)\n",
    "print(\"F1 score:\", fs)\n",
    "print(\"ROC AUC value:\", roc_auc_score(y_true, y_pred))"
   ]
  },
  {
   "cell_type": "markdown",
   "metadata": {},
   "source": [
    "## Используя предсказания вероятностей класса, найдите 15 самых негативных и самых позитивных рецензий по мнению модели."
   ]
  },
  {
   "cell_type": "code",
   "execution_count": 15,
   "metadata": {},
   "outputs": [],
   "source": [
    "y_pred_proba = clf.predict_proba(X_test)"
   ]
  },
  {
   "cell_type": "code",
   "execution_count": 16,
   "metadata": {},
   "outputs": [],
   "source": [
    "y_pred_proba = [1 - i[0] for i in y_pred_proba]"
   ]
  },
  {
   "cell_type": "code",
   "execution_count": 17,
   "metadata": {},
   "outputs": [
    {
     "data": {
      "text/plain": [
       "array([17609, 17303, 17390, 17383, 23528, 17357, 17347, 17340, 17331,\n",
       "       17328, 17326, 17286, 17169, 23561, 17266])"
      ]
     },
     "execution_count": 17,
     "metadata": {},
     "output_type": "execute_result"
    }
   ],
   "source": [
    "indices_max = np.array(y_pred_proba).argsort()[-15:][::-1]\n",
    "indices_min = np.array(y_pred_proba).argsort()[:15]\n",
    "\n",
    "indices_max"
   ]
  },
  {
   "cell_type": "markdown",
   "metadata": {},
   "source": [
    "#### 15 самых позитивных рецензий"
   ]
  },
  {
   "cell_type": "code",
   "execution_count": 18,
   "metadata": {},
   "outputs": [
    {
     "data": {
      "text/plain": [
       "array(['Ida Lupino is trapped in her own home by crazy Robert Ryan in \"Beware, My Lovely,\" a 1952 film from RKO. Lupino and Ryan did three films together and worked well as a team, both being consummate professionals and strong performers. In this film, based on a Broadway play called \"The Man,\" Lupino is a World War I widow who rents out a room in her home. She\\'s very active and well-liked in her community and though her husband has been dead for two years, she\\'s not ready to move on. The man who rents her room goes on vacation, and Lupino hires Robert Ryan to help her with some heavy-duty cleaning in the house. He\\'s friendly enough to start, but later terrorizes her, locking her in the house, and not allowing her to answer the phone or the door, as he grows violent and more out of touch with reality.<br /><br />The character played by Ryan is shown in the beginning of the movie running away when he discovers a dead body in another house he\\'s working in. It isn\\'t clear whether or not he\\'s the killer, since he seems surprised to see the body. He might be a split personality, as when his personality turns ugly toward Lupino, he seems to have no memory of his activities when he comes out of it. He doesn\\'t know that he has the keys to Lupino\\'s house in his pocket and doesn\\'t know why he has tickets to a party that he bought from young children who came to the door.<br /><br />\"Beware, My Lovely,\" is a very suspenseful film, and the two leads give terrific performances. The tension builds to a very high level and ends in a way you\\'re not expecting.',\n",
       "       \"This movie is almost unknown, but it is very good. In a lonely Danish town, two old sisters live remembering a far youths, when, due to a strict puritan education, they had to reject happiness. Lonely, then, the live in a dignified austerity, until Babette, who flies from Paris, frightened by the horror of the war, arrives. In few time, she will be able to turn the goodness and love she received when she arrived. A good lottery prize lets her organize a great banquet, following the best rules of French gastronomy. All neighbourhoods are invited (all fanatically puritans). They accept, but they pact to not show any trace of pleasure or enjoyment, as it would be a sin. However, the seductive force of the delicious meal they eat, that they become seduced by the sensuality of French gastronomy. The banquet end in a very felt, though quietly, happiness. The love between humans has awaken. The miracle of rise the human kindness due to the pleasure of the sense has begun. The movie is surprisingly good, but it is not for all tastes. During most of the movie, nothing happens, all is so quiet and so peaceful, that during many minutes, you can only see the life of the inhabitants of the town. But, as the movie develops, it becomes more precious, when Babette wins the lottery prize (after 30min movie), the show begins. The author is able, with a perfect directing, to show us how Babette prepares the banquet, how she mixes all the ingredients with the most wonderful one (Love), all told in a quiet delicious way, with a perfect knowledge of photography and acting. Then, as the banquet goes by, the quality in showing us how the mood of all eaters changes due to the meal, only with first shots, with impressively filmed scenes one after another is simply astonishing. In addition, the tact with the colours and the photography is also superb, almost every scene of the movie is like a picture, so work is involved there. If you are able to admire good cinema and are able to realize that sometimes the way on telling you something rather than what is told is more important, this is your movie. If you happen to like good meals and just love the good gastronomy, probably, you'll feel amused, as most feelings of the movie will be familiar to you. An Oscar totally deserved. The only problem is its slowness at setting up the story, but, I can forgive it (I hope everyone too)\",\n",
       "       'In 1929, director Walt Disney and animator Ub Iwerks changed the face of animation with the release of the very first installment of their \"Silly Symphonies\" series, \"The Skeleton Dance\". Iwerks and Disney had been collaborating together since the early 20s, in Disney\\'s \"Laugh-O-Gram\" cartoon series; however, their friendship suffered a tremendous blow when Iwerks accepted an offer by a competitor to leave Disney and start his own animation studio. That was the birth of Celebrity Productions, where Iwerks continued developing his style and technique (and where he created the character of Flip the Frog). While his work kept the same high quality, it wasn\\'t really popular and by 1936 the studio was closed. Later that year, Iwerks was hired by Columbia Pictures, and Iwerks decided to return to his old skeletons for another dance, this time in color.<br /><br />1937\\'s \"Skeleton Frolics\" is essentially, a remake of the 1929 classic \"The Skeleton Dance\", the movie that borough him fame and fortune. Like that short film, it is set on an abandoned graveyard, where at midnight the creatures of the night come alive and begin to play. The dead rise from their coffins, ready for the show that\\'s about to begin, as a group of skeletons has formed an orchestra, and begin to play a happy tune. Now, it\\'s not easy to be a musician made of just bones, as some of the orchestra members have problems with their body parts, however, the band manages to put a good show and another group of skeletons begin to dance. A lovely couple of them faces the same problems that troubled the orchestra: it\\'s hard to dance with loose body parts. Everything ends at dawn, and just when the sun is about to rise again, the skeletons run towards their graves.<br /><br />Directed and animated by Ub Iwerks himself, \"Skeleton Frolics\" follows faithfully the pattern set by \"The Skeleton Dance\" years before, although with a crucial difference: Iwerks did the whole film in Technicolor. The bright tonalities allowed Iwerks to create a more visually appealing film, and also to use the many new techniques he had been practicing since leaving Disney, creating even better effects of depth and dynamism than those he conceived before. It is certainly a more experimental film than \"The Skeleton Dance\", although sadly, this doesn\\'t mean it\\'s necessarily a better film. For starters, the film is practically identical to the one he did with Disney, with the only differences being the music (more on that later) and the color effects. It looks beautiful, no doubt about it, but it definitely feels kind of unoriginal after all.<br /><br />However, it is not the unoriginality of the concept what truly hurts the film (after all, Iwerks executes it in a wonderful way), but the fact that the musical melody created by Joe DeNat for the film is pretty uninteresting and lacks the charming elegance and whimsical fun of the one done by Carl W. Stalling for \"The Skeleton Dance\". In other words, while DeNat\\'s tune is effective and appropriate for the theme, it\\'s easy to forget about it rapidly while Stalling\\'s song has a unique personality that makes it unforgettable. Being a musical film, this is of high importance, and so the mediocrity of the music brings down Iwerk\\'s flawless work of animation. Personally, I think that with a better musical accompaniment, \"Skeleton Frolics\" would be remembered as fondly as \"The Skeleton Dance despite not being as groundbreaking, as it\\'s still a fun film to watch.<br /><br />It\\'s kind of sad that most of the work Iwerks did after leaving Disney is now forgotten due to his poor success, however, it must be said that if Iwerks lacked the popularity of Disney or Fleischer (Disney\\'s main rival), he did not lack the quality of those companies\\' films. It was probably just a case of bad luck what made the man who gave life to Disney\\'s mouse for the first time to face failure out of Disney. Despite its shortcomings, \"Skeleton Frolics\" is a very funny and visually breathtaking film, that while not exactly the most original and fresh film (one just can\\'t help but thinking of \"The Skeleton Dance\" while watching it), it definitely reminds us that Iwerk\\'s skeletons are still here to haunt us, and inspire us.<br /><br />8/10',\n",
       "       'A gritty presentation of the decay of family values and human dignity in the wake of Soviet communism, Vasili Pichul\\'s 1988 film Little Vera is a landmark film of modern Russian cinema. Pichul\\'s brutal drama marks a strong departure from the images of sanitized idealism promoted in Soviet times (as in Aleksandrov\\'s Circus), brashly moving the social chaos of his time into the public spotlight. A contemporary Ukrainian setting further intensifies the effect, first by the immediacy of the film to its time period, second by its utilization of a locale not only struggling for identity in lieu of a Soviet system, but also as a nation distinct from the Russian idiom that had dominated the U.S.S.R.<br /><br />Vera, the film\\'s title character and protagonist, is a rebellious adolescent girl with a \"dysfunctional\" family including a hard-drinking father and a mother care-worn. Rejecting her would-be beau Andrei, Vera begins a destructive (and primarily sexual) relationship with a college student named Sergei. Despite her parents\\' dislike for the lazy Sergei, and despite Sergei\\'s rude contempt for her parents, he moves into their cramped apartment. Tensions escalate until Vera\\'s father drunkenly stabs Sergei. Vera must decide if she will stay loyal to her intolerable family by testifying her father acted in self-defense, or continue to support and defend the ever-detached Sergei. <br /><br />Unbearable in almost every imaginable way, Little Vera masterfully captures and communicates the inescapable void left in social life after the collapse of communism. The sexual aggressiveness of the film (it was the first film to show explicit sex) combined with the unrelenting presentation of social reality (a marked distinction from the socialist realism demanded by Stalin) effectively confronted the conditions of former-Soviet life. Most interesting, however, was public reception. While many wrote hate mail to the director and star, the film was wildly popular. Here the double-edged nature of \"film as social criticism\" emerges: if done correctly, the film will make the audience uncomfortable. Because no easy solution presents itself, some viewers will hate the film and filmmakers for \"bringing up\" the issue. Many films come to mind as somewhat comparable in this regard: Larry Clark\\'s Kids, Harmony Korine\\'s Gummo, even popular movie\\'s such as John Hughes\\' Breakfast Club. <br /><br />I recommend this film to those viewers for whom the prospect of nearly two hours excruciating domestic conflict and social miasma is not overly daunting. The film is absolutely beautiful, and incredibly challenging. Despite the difficulties of watching the film, some moments within it are profoundly beautiful. Of course, the socio-historic and cultural significance of the film cannot be overlooked, and in fact operate as an even more assertive reason for watching this film.',\n",
       "       \"In Brooklyn, the nightclub dancer Rusty Parker (Rita Hayworth) has a simple but happy life dancing in the McGuire's, owned by her boyfriend Danny (Gene Kelly). Rusty, Danny and Genius (Phil Silvers) have a ritual on Friday nights: they order oysters in a bar, trying to find a pearl. The life of Rusty changes when she participates and wins a contest to be the cover page of the Vanity magazine. She is invited to work in a huge theater in Broadway, whose owner proposes her. She loses her happiness and starts drinking in her new life style, missing the love of Danny and her old friends. 'Cover Girl' is a delightful romantic comedy, very naive and having magnificent parts, such as the beauty and talented Rita Hayworth dancing, singing and acting; Gene Kelly, specially in two scenes, dancing with himself and with Rusty and Genius on the street; the songs and the choreography of the dances are also spectaculars. Danny, the character of Gene Kelly, is almost nasty with his chauvinist behavior. Rita Hayworth surprised me with her talent: I found her amazing in 'Gilda', but she is stunning in 'Cover Girl'. In accordance with the information on the cover of the VHS, 'Cover Girl' was the first musical where the songs were part of the plot, giving continuity to the story, instead of just being 'thrown' in the movie. My sixteen years old son saw this movie with a friend of the same age in a recent Gene Kelly festival and they loved 'Cover Girl', therefore I dare to say that this classic is recommended to any movie lover and not only to the old generations. My vote is nine.<br /><br />Title (Brazil): 'Modelos' ('Models')\",\n",
       "       'If the caper genre owes a lot to Walter Huston, it also has a debt of gratitude to Jules Dassin, a man that was ahead of his times and who suffered a lot because of his blacklisting when Edward Dmytryk accused him of being a Communist. The end of his American career would have meant the end of Mr. Dassin, but moving to Europe proved he was bigger than the same people that had contributed to his Hollywood demise.<br /><br />\"Rififi\" is an elegant film in which all the right elements come together thanks to Mr. Dassin\\'s vision. He decided to adapt Auguste Le Breton\\'s novel because he saw the possibilities for turning it into a caper film that became an instant classic. Jules Dassin was penniless in Paris when he discovered the city that were going to serve as the background to his film. The bad weather paid off for Mr. Dassin as the streets were always wet and not much had to be done to show them that way.<br /><br />When we first meet Tony, he is playing cards. Tony appears to be in bad health; he coughs all the time and sweats profusely. After losing all his money, he goes to see Jo, the Swede, who tells him about a possibility for a robbery at Maupin & Webb, the fancy jewelry store at a tony section of Paris. They pass the idea through Mario, who suggests Cesar, the Milanese, an expert safe cracker.<br /><br />Tony, who has come out of prison recently, learns that Mado, his former lover is now with Grutter, a creep that owns a night club. Upon confronting Mado, instead of love, all he feels is contempt, and the meeting ends badly and he throws her out of his place. Grutter has no love for Tony, who is his natural enemy because of his connection with Mado.<br /><br />When the day arrives, the gang is able to get to the apartment building where on the second floor, right above the jewelry store, the owner lives, but he is away. Everything goes well and the gang gets away with the jewels. Cesar, the Milanese, a typical ladies\\' man, takes a ring as a souvenir, which in turn he gives the chanteuse at the Grutter\\'s night club. This tactical mistake is the spark which unravels the well thought plan.<br /><br />Jean Servais made an excellent Tony. He showed a tired man who was possibly doing his last robbery. Carl Mohner, Robert Manuel and the director, Jules Dassin, are seen as Jo, Mario and Cesar, the quartet jewelry thieves. Marie Sabouret plays Mado. Marcel Lupovici plays Grutter with a subdued intensity. Robert Hussein, who would go to direct movies later on, makes an impression with his Remi, one of Grutter\\'s men.<br /><br />The film best asset is the great camera work by Philippe Agostini, who captured the atmosphere of Paris and the locales where all these criminals operate from. Georges Auric\\'s music plays well with the action in the film. Jules Dassin was peculiar in his choice of films that he directed, and unfortunately, that is our loss because this man was a genius as proved mainly with \"The Naked City\", \"Night and the City\" and \"Rififi\".',\n",
       "       \"I finally snagged a copy of Kannathil Muthamittal through Netflix and spent New Yera's Eve watching an amazing drama unfold. It began with Shyama (a winsome Nandita Das) getting married to Dhileepan in the backwaters of Sri Lanka and then a war takes over their romance. Shyama has to flee to India and is in a refugee camp as she gives birth to a child. Several years later we see Amudha, a playful well-loved child (P. S. Keerthana), who is the darling (or burden) of teachers, parents and fellow schoolmates alike, in a very How to Solve a Problem Like Maria sequence. On her birthday she is told by her parents Thiru (Madhavan) and Indra (Simran) that she is not their biological child, she was adopted. This tilts her confident love-filled world and she constantly dwells on why her birth mother left her. Several attempts at truancy later the adoptive parents take her to Sri Lanka to try to find her birth mother. The country is torn asunder by a raging civil war and the trio are inevitably caught up in the mess. But this also leads to their meeting the new Shyama - one who finally is confronted by Amudha and asked why she abandoned her daughter.<br /><br />The story of a child who has to grapple with the fact that she was abandoned at birth, her obsessive drive to reconnect with her birth mother, the unconditional love of the adoptive parents, the demons that drive the birth mother, the normalcy of Chennai and the horrors of terrorism ravaged Sri Lanka - Mani Ratnam made a masterful film that blended many ingredients into a saga that is soul stirring. AR Rahman's music beautifully complements the magical and the poignant moments in the film. The film has excellent performances from Madhavan, Nandita Das, Simran and an absolute stunner role as Amudha - the abandoned one - done by the child artiste P. S. Keerthana. This performance won her a National award.<br /><br />The cinematography is visual poetry - each frame is beautifully crafted and breathtakingly shot. I am intrigued by the connection Mani Ratnam has with terrorism, love and obsessions. I think his exploration of these subjects is absolutely outstanding. Mahadevan's character was quite unique - his passion and idealism did not make him selfish, rather was well matched with how much he cared for the little girl. His one liners were hilarious. The mother played by Simran was also quite multi-dimensional - she was idealistic, loved the adopted daughter but also worried about her biological kids. The shock, angst, and obsession of the child Amudha was outstandingly portrayed by P. S. Keerthana. Her wide accusing eyes did most of the talking. In fact the enigmatic characters were those of Nandita Das, and her husband. Perhaps Mani deliberately made them mysterious so as to not give us overt ideas of why they were the way they were - the enigma of why a terrorist becomes what he or she becomes. It also kept him from being judgmental - this was another conflict in which he took no sides but merely reported while showing the human tragedy.<br /><br />Kannathil Muthamittal is visual poetry and a soul stirring drama - I rarely weep in the movies, but this one left me moist eyed and a little heartsick. This is a beautiful film - a treasure and a keeper if you can find a copy; beg borrow or steal one today and watch the film!\",\n",
       "       \"As I looked at this movie once again, I think it belongs among Hitchcock's greatest films. The first time I saw it I was just blown away by the suspense, action and imagery. It has the gripping ending, the deranged murderer, the innocent man framed or victimized by circumstances, some great on-location shots, e.g. the Jefferson Memorial in Washington and Penn Central in New York. It also has great supporting actors with Hitch's daughter Patricia in the role of the younger sister to Ruth Roman and the stalwart Leo G. Carroll in another of his Hitchcock movies. The merry-go-round episode near the end is one of the most nerve-wracking in Hitchcock's body of work.<br /><br />Robert Walker as Bruno Anthony (his last full film) gives a great performance as the deranged stranger on the train, who worms himself into the life of the unsuspecting tennis star, Guy Haines (Farley Granger). Granger plays the nice guy who is caught up in a messy divorce. The movie opens with the camera showing the shoes of two separate men as they leave their taxis to board the train. Eventually, they meet and the story takes over. The stranger takes an unusual interest in the tennis star and as the movie continues,the stranger becomes a stalker. The action shifts from place to place, including Washington, the fictional small town of Metcalf, the Forest Hills tennis championship, and a passenger train taking the two leading men back and forth on separate missions. Towards the end, the pace of a tennis game is woven into the plot as they race against time. The camera cuts away to the faces of the athletes as they volley and serve in a remarkable series of shots. When the closely-fought contest is over, the climactic chase takes place. Hitchcock has a love for trains and it is great to see Penn Station, long since gone. Trains are featured in the 39 Steps, the Lady Vanishes, Shadow of a Doubt, Spellbound, North by Northwest and this movie. <br /><br />This classic Hitchcock thriller took place at the start of a period of great creativity for the master of suspense - the 1950's and I am convinced that one day it will be given its due in the Hitchcock hall of fame.\",\n",
       "       'Based to some extent on writers, David Croft and Jimmy Perry\\'s, own experiences as Butlins Holiday Camp entertainers in the UK during the same timescale the programme follows, \"Hi-De-Hi!\" epitomises the \\'slapstick, postcard humour\" of post-war Britain. Set in the fictitious seaside town of Crimpton-on-Sea, \"Hi-De-Hi\" chronicles the comedic goings on within the Maplins Holiday Camp - one of many dotted along the British coast owned by the mega-rich, but never seen (on screen) Joe Maplin.<br /><br />Although the actual show began in 1980 with the pilot episode and ran until 1988 when the BBC deemed it too tame for it\\'s cutting edge comedy department, seasons 1-5 focused on 1959 while seasons 6-9 spotlighted 1960 - a time when the old style British Holiday Camp began to fall into decline. During the first 5 seasons, Jeffrey Fairbrother (played brilliantly by the late, great Simon Cadell) was the camp\\'s entertainment manager; a well meaning, yet slightly pensive ex-university professor breaking free of his upper class background and venturing into the \"real\" world to head his team of entertainment staff who were in stark contrast to his own laid-back personality. From season 6 onwards, Fairbrother was replaced by Clive Dempster (played by David Griffin when Cadell quit the show at the height of it\\'s popularity), an ex-RAF war hero who, in many ways, was similar to Cadell\\'s character in background, but more a scoundrel than a gentleman.<br /><br />However, the real stars of \"Hi-De-Hi\" throughout the nine seasons were Ted Bovis (played superbly by Paul Shane), a stereotypical working class, ale drinking, bawdy comic - someone who could never resist an opportunity to fiddle the campers; Gladys Pugh (played by Ruth Madoc who\\'s currently experiencing a career comeback with appearances in the hit BBC Comedy, \"Little Britain\"), chief Yellowcoat (what the entertainment staff were called because of their bright yellow jackets) and sports organiser - but more importantly, the one person who saved Jeffrey Fairbrother and Clive Dempster from embarrassment by covering up their inexperience in running a holiday camp; Peggy Ollerenshaw (Su Pollard), the slightly dopey, yet lovable lowly chalet maid with a burning ambition to become a Yellowcoat, and Spike Dixon (Jeffrey Holland), Ted\\'s innocent protégé learning more about \\'show business\\' than he hoped for.<br /><br />As usual with a Croft & Perry production, the assembled cast of characters were a bunch of misfits played superbly by the actors involved. Mr. Partridge (played by the late Leslie Dwyer, who was in his 70\\'s by the time he left the show), the alcoholic child-hating children\\'s entertainer; Fred Quilly (Felix Bowness), a former champion jockey with a dubious past; Yvonne & Barry Stuart-Hargreaves (Dianne Holland & Barry Howard), the snobbish former ballroom dancing champions who were in the twilight of their careers; and Sylvia and Betty (Nikki Kelly and Rikki Howard), the two main girl Yellowcoats who were always looking for the type of fun Joe Maplin would never allow in one of his camps.<br /><br />\"Hi-De-Hi\" typified the slapstick era of the late 50s with it\\'s saucy and, to a certain degree, vulgar \"tongue-in-cheek\" humour (jokes about people sitting on toilets and anecdotes about \\'women with big knockers\\' were the order of the day). But despite it\\'s whiff of \"Carry On\" funniness, it was always so innocent and became something of recommended family viewing back in the 80\\'s. Of course, the critics of the show remarked that the show had outstayed it\\'s welcome by a good couple of years, but I disagree. While the early seasons focused mainly on bawdiness and slapstick humour, the latter series of \"Hi-De-Hi\" saw more thought put into the scripts and the main characters (especially Spike Dixon & Gladys Pugh) were able to grow with more sensitive story lines. That said, there were a few criticisms of the show. Clive Dempster was no Jeffrey Fairbrother, and the former didn\\'t quite have the on-screen chemistry with Gladys as Jeffrey did (I personally think it would\\'ve been more believable if Gladys had married Jeff); five seasons dedicated to 1959 and four to 1960 caused more than just a few continuity errors (the disappearance of old faces and introductions of new characters weren\\'t explained properly, especially with the Yellowcoats who came and went with much regularity; and the character of Gladys Pugh, who, in the pilot episode was made out to be a free-loving man-eater that was suddenly transformed into a naive virgin like character! Also to mention quite pedantically, most of the 1959 holiday season was covered in season one, so to stretch the rest of the year out in five further series was something bordering unbelievable. Still, the show wasn\\'t meant to be meticulously looked upon, and the comedy more than outweighed it\\'s flaws.<br /><br />All in all, \"Hi-De-Hi\" was probably one of the last comedies from the BBC\\'s golden period, and even if it never managed to rival such British comedic mainstays as \"Only Fools & Horses\", \"Porridge\" or even \"Last Of The Summer Wine\", \"Hi De Hi\" will be best remembered as a comedy the whole family could enjoy. If you haven\\'t already checked it out for yourself, I implore you to do so.',\n",
       "       'In \"Lassie Come Home,\" \"National Velvet,\" and \"The Courage of Lassie,\" Elizabeth Taylor was eleven years old \\x85 Nevertheless, her charm and beauty were extraordinary, and what she lacked in talent and experience was well hidden in a fine production that was nominated for five Academy Awards\\x85 <br /><br />As horse-trainer or dog-owner, as spurned wife or mistress, Liz is a female who is absorbed in the giving and receiving of love: devotion to the object of passion is the center of her life\\x85 Little Liz lavishes love on horses and dogs with remarkable intensity\\x85 Ecstatic; a dreamer with a turbulent emotional life, persistent, the young Liz dedicates herself to the prize-winning horse the way she later devotes herself to men\\x85<br /><br />Anticipating her later images of young sex goddess, Liz as Velvet is both saintly and mature\\x85 Howard Barnes, in the New York Herald Tribune, called her a child who \\'lights up with the integrity of a great passion.\\' <br /><br />Directed by Clarence Brown with loving attention to detail, the movie that made her a star is a big bestseller from another era set in Sussex, England, where Velvet Brown, a butcher\\'s daughter, teams with a vagabond teenager named Mi Taylo (Mickey Rooney) to train for competition a horse she\\'s won in a raffle\\x85 <br /><br />From the coastal plains with its beaches, to the rolling hills, thatched cottages, and miles of country walks, \"National Velvet\" is the product of a bygone era in movie-making\\x85 <br /><br />Following closely the structure of the popular Enid Bagnold novel, the movie is part horse story, part family portrait: scenes of training and riding are balanced by cozy family scenes, vignettes about young love and sermons from Mom on the virtues of courage and endurance\\x85<br /><br />The Browns are a noble version of Hollywood rustic\\x85 Dedicated to a sober work ethic, they live quiet, exemplary lives\\x85 Mrs. Brown (Anne Revere) is the very spirit of plain-folk wisdom; the spokeswoman for common sense and fair play, she knows well enough not to silence the semi-hysterical energy of her horse-crazy daughter, and she lets the girl have her dream\\x85<br /><br />Anne Revere won an Oscar as Velvet\\'s mother, as did editor Robert J. Kern\\x85',\n",
       "       'I\\'ve always loved \"Gone With The Wind\" and have seen it numerous times. However, its ending left me not only \"hanging,\" but depressed, with a hopeless feeling. Finally, in \"Scarlett,\" Ripley took us to a very plausible and satisfying end (\"beginning\") of the original story.<br /><br />It follows that someone of Scarlett\\'s obvious intelligence (as originally written) would eventually grow up. Although, like most people, I fell in love with Scarlett in GWTW, I tired of her constant insipid infantiilism to the point of exasperation, and I was disappointed that Mitchell did not show Scarlett using that obvious intelligence to even make an attempt to grow emotionally. Thankfully, someone finally did. (After all, isn\\'t that nagging immaturity that conflicted with her beauty and intelligence the very reason Rhett finally gave up on her in the first place?) I think Ripley did an excellent job of describing that long-overdue process, and Whalley-Kilmer did a superb job of portraying it. Joanne W-K has all the fire, exuberance and intelligent sparkle as did Vivian Leigh, and she is certainly at least as, if not more, beautiful.<br /><br />There was, is, and always will be only one Clark Gable. However, if I had to pick an actor out of the thousands to which I\\'ve been exposed to portray him in his biography, it would definitely be Timothy Dalton. Dalton possesses the same elegant charm that Gable did, which is essential for Rhett\\'s character. I can\\'t imagine anyone else who could come close.<br /><br />In my opinion, both Joanne Whalley-Kilmer and Timothy Dalton were superbly cast and the only actors who could have possibly played Scarlett and Rhett. I think both their performances did justice to not only the late actors but also the spirit of their characters.<br /><br />I enjoyed the whole cast. Julie Harris was her usual delightful presence, and Jean Smart was an adorable kick! Even Ashley\\'s character was nicely played by Stephen Collins, and the progression of his relationship with Scarlett was totally believable.<br /><br />The story became a little convoluted in Ireland, but so is life, after all, and I still found it entertaining.<br /><br />All in all, I thoroughly enjoyed the fruits of Ripley\\'s imagination. I wish I\\'d written it!<br /><br />',\n",
       "       'I just recently bought \"The Big Trail\" {1930}. It\\'s an awesome, amazing film. I knew it by reputation but never expected it to be so magnificent. My version is the one shot in 35mm and I\\'ll speak of that again later. When one thinks of the Western Myth in film the names that come to mind are John Ford and John Wayne. Well, you have only half the team here, but the entire Myth is present. Raoul Walsh has given us a remarkable epic in which the true plot is the struggle of the westward expansion of the nation. <br /><br />There is a plot centering on a romance between Breck Coleman {Wayne} and Ruth Cameron {Margaret Churchill} with the main villain, Red Flack being memorably played by Tyrone Power, Sr. But this has an almost incidental quality as the wagon train struggles forward against incredible obstacles\\x97both natural and human. Examples are the crossing of the river, the Indian battle, and traversing the burning Desert. The aftermath of the battle is given a sombre touch when a doll is placed on the grave of a child killed while a faithful dog lies down on its master\\'s grave.<br /><br />Magnificent panoramas are filled with energy and activity. The opening scene as the wagon train prepares to leave, the Square Dance interlude and the great Buffalo herds are some that spring to mind. Marvellous use is made of location shooting throughout. Another feature of this splendid film is the fact that men and women are given equal credit for their parts in the great struggle Westward. Women work, fight, and confront the terrible hardships with the same fortitude and strength as their male counterparts. The finale has a powerfully uplifting experience as Coleman and Cameron meet in the gigantic towering Sequoia forest to start their new life. <br /><br />The acting is quite acceptable throughout. I\\'ve already mentioned Tyrone Power\\'s scene-stealing performance. Tully Marshall is excellent as Coleman\\'s sidekick, and Marguerite Churchill convincingly portrays a woman who develops an inner strength as she encounters her own problems as well as those external to herself. The comic-relief is the weakest aspect of this film, but these scenes are not common and are swallowed up in the tremendous sweep of the film.<br /><br />I\\'ve read much criticism of Wayne\\'s performance\\x97some even going so far as to blame his \"wooden acting\" for the failure of the film at the box-office. I think this is unfair. Wayne was in his first major role and certainly had not developed the charisma of his performance in \"Stagecoach\". But he still does a serviceable job in a role which is certainly going to play second fiddle to the great over-arching theme. After \"The Big Trail\", Wayne played in a large number of low-budget B Westerns. I have a number of these and one can see the developing actor in them. When \"Stagecoach\" came he was ready for it and \"The Big Trail\" was a significant part of that apprenticeship.<br /><br />I mentioned earlier that my version is the one shot in 35mm. It\\'s still impressive, but to get some idea of the effect of the 70mm version I set the TV screen to 16:9 which doesn\\'t cause any distortion. While not having the complete effect of the Grandeur version, it was good enough to make me want to get the latter. {in addition, the film shot in 70mm has a few extra scenes not in the form made for ordinary theatrical showing}.<br /><br />All-in-all, this film deserves to be in any list of the greatest Westerns ever made.',\n",
       "       \"If you go to the cinema to be entertained, amused, so as to fill up your time, do not go out of your way to watch this film.<br /><br />If you go to the cinema to appreciate the depths of human-kind, the feelings of real people, to explore the characteriology of personalities, if you go to the cinema to absorb magnificent photography, be sure to put this film very high on your list, preferably in first place. The experience is profoundly rewarding, causing the intelligent viewer to make diverse reflexions over the meaning of life itself. With 'Mar Adentro' Alejandro Amenábar has surpassed the best he has done to date, and even redeemed certain deviations in his earlier films which smacked a little of being aimed at Hollywood. This is not the case with this visual poem put to music: Hollywood could never get anywhere near the effect of this tinglingly inspired human - and humane - story.<br /><br />In no way should one interpret 'Mar Adentro' as an apologia for euthanasia; this story, based on the real life of the Galician fisherman Ramón Sampedro, is a cry from the bottom of the heart for life and love, a reaching out for human compassion, for understanding emotions. Sampedro was an articulate and intelligent man who after a diving accident off the rocks of the Galician coast as a young man was condemned to live the next 27 years in bed. 'Condenado a vivir' (2001) (TV) was the first version of this man's life on which I have already commented. However, Amenábar has succeeded remarkably at portraying this man, with his permanent enigmatic smile and witty sense of humour, in an equally articulate and intelligent way.<br /><br />And Javier Bardem rose to the occasion, met the challenge head-on, complete with a Galician accent, producing an electrifying, compelling, enthralling performance, such that the actor and the fisherman become fused into being the same person on screen. Here, indeed, is an occasion to doff your cap, and softly mutter 'chapeau'. Bardem is driven on in his task by a magnificent cast, especially Belén Rueda, Lola Dueñas, Mabel Rivera, Celso Bugallo (Los Lunes al Sol) (qv) and Clara Segura, Galician and Catalan accents taking prominent part. <br /><br />Amenábar produces wonderful dialogues as these six rotate among themselves one-on-one, or in groups, with excellent chemistry, thus demonstrating that this young Chilean-born Spanish director is an artist who knows what he is at and how to get his results; his global concept of the film includes his own music, interspersed with pieces by Beethoven and Puccini on Sampedro's record-player.<br /><br />Whilst viewing 'Mar Adentro', I found myself a couple of times comparing him and this film with Stephen Daldry and his masterpiece 'The Hours' (qv). I refer to the way in which the dialogues work with tenseness and passion and that careful sense of timing in each scene.<br /><br />Javier Aguirresarobe's photography is superb as usual. As I have mentioned elsewhere on IMDb, he does not simply film the events and scenes - he captures even the feelings and the atmosphere of the moment, deftly catches that look in the eyes, light and shadows, such that his work behind the camera is at once another player in the story. A superb artist.<br /><br />'Mar Adentro' is another landmark in the history of Spanish cinematography, among the best five or six works of art produced here in the last 25 years. This film places itself alongside such cinematographic art as 'El Sur' (qv), 'Los Santos Inocentes' (qv), 'El Abuelo' (qv), 'La Lengua de las Mariposas' (qv), 'Las Ratas' (qv), 'A Los Que Aman' (qv), and I think I must add 'Te Doy Mis Ojos' (qv).<br /><br />Superbly orchestrated story of a real man, and those who loved him around his bedside: not to be missed.\",\n",
       "       '\"Kramer vs. Kramer\" is a terrific drama about an unhappy woman who walks out on her husband and young son. The husband now has to take up the responsibilities of taking care of the boy. As he does, they get to know each other better. But then, the mother and wife returns, and she wants custody of the boy. \"Kramer vs. Kramer\" has lots of drama with some wonderful bits of comedy thrown in for good measure. Dustin Hoffman won his first Best Actor Oscar for his brilliant performance here. Most people say his performance in \"Rainman\", which won him his second Oscar, is his best. He was great in that film, but I disagree that its his best. In my opinion, the best performance of Hoffman\\'s career is in this movie. Scene after scene shows us why Hoffman is one of the best American actors working today. He\\'s also funny at times. Also giving a terrific performance is Meryl Streep, who wasn\\'t as well known when she made this film like she is today. Streep, like Hoffman, also won her first Oscar (for Best Supporting Actress) for her work in \"Kramer vs. Kramer\" as the wife and mother who tries to find herself after walking out on her family. Justin Henry, who was only 8 years old when the film came out, is wonderful as Hoffman and Streep\\'s son. He won an Oscar nomination for his role here, and still to this day he is the youngest performer to receive an Oscar nomination in a competitive category (Best Supporting Actor). Jane Alexander is also fine as a conserned family friend. She too got an Oscar nomination (for Supporting Actress where she lost to co-star Streep). \"Kramer vs. Kramer\" is a great film from start to finish. Writer-director Robert Benton has made a film that\\'s absolutely unforgettable. <br /><br />**** (out of four)',\n",
       "       \"THE SEA INSIDE (2004) **** Javier Bardem, Belen Rueda, Lola Duenas, Mabel Rivera, Celso Bugallo, Joan Dalmau, Alberto Jimenez, Tamar Novas, Francesc Garrido, Jose Maria Pou, Alberto Amarilla, Nicolas Fernandez Luna.(Dir: Alejandro Amenabar)<br /><br />An inspiring tale of a living death; Bardem is superb<br /><br />The true life account of Spanish quadriplegic Ramon Sampedro and his petition to fulfill his desire for euthanasia by the right to die may not be considered a likely source of inspiration but this film is just that.<br /><br />Sampedro (played superbly by Bardem) was a virile, energetic young man when he lost the function to his limbs after a tragic diving accident (recounted horrifically in flashback with a visceral jolt to the senses) and for nearly thirty years lay paralyzed in bed while his loving family cared to his every need. Although his abilities to move were nil his mind was very much active and proved skillful as an inventor, poet, author and artist that kept his mind busy until he could no longer bear the thought of living longer in his stunted condition.<br /><br />Enter beautiful yet also afflicted with a crippling disease attorney Julia (the ethereal Rueda who matches Bardem beautifully as if they were indeed soul mates) is hired to see through Sampedro's final wish to end his life and in turn becomes an aide de camp when he begins to open up to her like to no one ever before. Not too long has time passed and Julia begins to investigate her charge's past discovering many letters hidden away by his family. When Julia confronts Ramon with this he at first is reluctant to discuss any thing with her but eventually he agrees with her that this may help his case and the project becomes a book in the making \\x96 a memoir/biography by way of free-style poetry and prose. <br /><br />The film is a heartbreaking tale of the human spirit and how love eventually triumphs over heart ache in many forms including for Ramon the unlikely love he shares with a complete stranger named Rosa (Duenas) a single mother who sees him on TV one day inspiring her to bicycle to his remote farmhouse in Spain to get to know him and possibly change his mind about ending his life.<br /><br />Filmmaker Amenabar, who co-wrote with Mateo Gil the fascinating screenplay, allows some fantasy into the mix when Ramon envisions himself magically leaving his bed and flying across the bucolic landscapes to the eventual sea where he suffered so many years ago the cruel twist of fate that has imprisoned him for three decades. The film is not a complete downer with a sly wit and occasionally humorous tone throughout that doesn't dilute the impact of the story's final act. Kudos also to the remarkable make-up job by James and Jo Allen do a tremendous job in aging the vibrant Bardem to an aging man to full effect that should get them an Acadamy Award nod. <br /><br />Bardem and Rueda deserve Oscar nominations as two people with so much in common and despite Rueda's Julia being married to a loving, doting husband, that a pair of people so made for one another it is down right impossible they were never together to begin with. That's just one of the cruelties that rings true but it is not by definition of the film as its whole; it is a must-see and one of the year's best.\"],\n",
       "      dtype=object)"
      ]
     },
     "execution_count": 18,
     "metadata": {},
     "output_type": "execute_result"
    }
   ],
   "source": [
    "data_test.iloc[indices_max].text.values"
   ]
  },
  {
   "cell_type": "markdown",
   "metadata": {},
   "source": [
    "#### 15 самых негативных рецензий"
   ]
  },
  {
   "cell_type": "code",
   "execution_count": 19,
   "metadata": {},
   "outputs": [
    {
     "data": {
      "text/plain": [
       "array([\"I'd heard a lot of bad things about this film before seeing it, but thought all the negative comments were probably down to the film's low budget and poor acting - both of which I can deal with when it comes to zombie films. However, what I didn't count on is this film being really, really boring; if there's one thing you can count on from low budget zombies, its gore and entertainment - but unfortunately, this film has neither. I'm quite surprised, because the previous two horror films I've seen from director Bob Clark - Deathdream and Black Christmas - were both highly inventive and entertaining films, but Children Shouldn't Play with Dead Things just doesn't cut it. The plot line follows a group of young adults that travel to a burial island in order to mess about with rituals to bring the dead back to life. However, they soon learn that playing with things they don't understand is a really stupid idea when their rituals actually bring the dead back to life and the corpses of the island return to feast on their blood!<br /><br />The plots sounds like it could lead to a decent flick, but what I didn't mention is that the interesting parts don't start until the final twenty minutes; and as this is a ninety minute movie, I'm sure you can guess that this isn't a good thing. The opening hour and ten minutes are padded out with poor acting and even worse characters. I can understand setting up a situation so that the horror is more potent once it comes along; but please, if you're going to spend so long on it, you've really got to make it interesting. All of the characters in the film are over the top and annoying, and personally I just wanted the zombies to hurry up and eat them. The film is not without its merits, however, as the atmosphere is a standout. Lucio Fulci would show seven years later how an isolated island and flesh eating zombies can blend well; but Bob Clark already did it with this film. The direction isn't bad either, but it's brought down by poor make-up effects and a distinct lack of blood, which isn't likely to please fans of zombie movies. Overall, I really can't recommend this film; but if you're a hardcore zombie fanatic, you may get a kick out of it.\",\n",
       "       \"This film is so bad it's hilarious. I watched Hell Ride half thinking it was a comedy, although I couldn't quite work out if they were actually taking the p*ss, or if this really was a serious attempt at making something decent. I notice it isn't listed here as a comedy so they must be serious! It's basically seems to be about a gang of pensioners who ride round on motorcycles shooting at each other and exchanging the most hilariously bad dialogue you can imagine. One scene inexplicably has two characters smashing bottles over each others heads, then showing each other 'get out of jail free' cards that they've made! Also check out Vinnie Jones' accent, where the hell is he meant to be from?!? Oh and there's a load of naked girls in it too, who for some unfathomable reason seem to want nothing more than to have none stop sex with these leathery skinned b*stards! The guy who wrote and directed it - a Pee Wee Herman lookalike with a Greeshan 2000'd beard and an orange sunbed tan - has for some reason cast himself in the lead role, maybe this is part of the joke, I don't know. Actually, the more I think about it the more I'm sure this film is a p*ss take. It's produced by Quentin Tarantino and it's possible he's released this in humour as a bit of a laugh. It is a total rip off of Tarantino's style, but just done really really badly. It is very amusing though, and I guess either way it could go down as a cult classic, either from being an amusing parody of the Tarantino/Rodriguez style, or something that is very very unintentionally funny. Has to be seen to be believed.\",\n",
       "       'Three words: What a pile..... Two words: Don\\'t bother! One word: Sucked! There are zero reasons to see this movie. Even those Seagal groupies should shy away from this movie. The martial arts, the typical Aikido, are horrible. The martial arts moves themselves are fine but the cinematography is pathetic. The movie actually goes into slow motion whenever Seagal give his \"kill move\" to his victims. Worse yet, is shows the same move three times in rapid succession from three slightly different angles. How stupid. Seagal\\'s acting was plain stupid, but I still give this movie a \"6\" for acting because of the supporting cast whose \"villain\" roles were actually quite entertaining.<br /><br />The plot is just dumb. Seagal plays a Federal Express agent with a license to kill. His character also has that dedicated work ethic which means all of his packages get delivered to the correct people on time - at no extra charge - and nothing stands in his way. Not assassins, political leaders, explosions, or even death.<br /><br />I expect a certain level of violence in a martial arts film, but there are several scenes in this movie of random and horrible acts of violence that lend itself in no way to the advancement of the movie or its story. There is a reason this movie went directly to video and there are tons of reasons to avoid it. No one should bother with this tripe.<br /><br />',\n",
       "       \"Anyone who has seen the piece of steaming smelly poo called Congo understands my title. And I feel for you. This movie wasn't just bad. It was painful. The book was stupid, the script was even dumber and the cast was terrible. Dylan Walsh? Rumor has it Julia Roberts dumped your ass cause this movie blew so bad. Huge diamonds? Killer gorillas? Talking gorillas? Hmmm. Sounds like a hit! OH! Tim Curry's accent is so bad in this movie I would prefer being deaf! I recommend this movie to bulimics looking to purge after a heavy meal or Kavorkian patients who just need that one more reason to die. If this is faithful to the book, I would say lets have us a good old fashion Footloose book burning and destroy every copy. If future generations look back and find this garbage, how would we explain ourselves? Listen to the others who hated this movie! Don't watch it! Run away! DO NOT WATCH this movie! If you think it is full of action or suspense or cool effects, YOU ARE WRONG! If you think it blows more cock than Nicole Ritchie, you'd be right. So if you still are going to watch Crapo..,.I Mean Congo, I say do it after you just took 50 Tylenol PM.\",\n",
       "       \"Cheerleader Massacre was supposed to be the fourth installment of the Slumber Party Massacre series; if that's what they were doing (which it is considering ONE actress from the original returns in a small cameo role), they have failed miserably and made, by far, the worst installment of the 'quadrilogy'. Cheerleader Massacre seamlessly combines bad acting, a horrible plot, a dumb killer, dull and boring deaths, boring scenery, and hideous camera work to make it one of the worst films ever made. Did I already mention how bad it was? Don't get me wrong: this cheesy and retarded excuse for a horror film is nowhere near as bad as Napoleon Dynamite, but it is undeniably a horrible movie.<br /><br />Cheerleader Massacre is an exact polar opposite of the original Slumber Party Massacre. Stay away by all means! This movie is utter garbage!\",\n",
       "       'This is one of the worst movies EVER made. I can\\'t believe how bad it was. I was shocked at the awfulness of the \"ghoulies\" masks. They are OBVIOUSLY Halloween masks! The mouths don\\'t even move when they talk!!!!! Why did they feel the need to make the ghoulies comical and goofy? Whenever they do anything there seems to be this circus-like music and overused BONK and BOING noises when they hit people. The bondage dominatrix lady is one of the worst actresses I have ever seen. This movie is just bad. The plot is nonexistent. The mom from ONE TREE HILL is in this though and she has obviously had a nose job since this was made. Why did the main character from the first movie return to make this garbage? BAD BAD BAD movie.',\n",
       "       'I like to think of myself as a bad movie connoisseur. I like to think that the films most people label as the worst of all time I can easily withstand.<br /><br />But...there are exceptions. I can only recall three movies I have had the misfortune to see that I have repeatedly used the fast-forward button for large chunks of the story. Those movies are The Mighty Gorga, Night of the Seagulls, and this little crap, Deep Blood.<br /><br />In the world of Jaws ripoffs, this falls off the scale. Deep Blood doesn\\'t have the realistic storyline of the original Crocodile, nor the incredible effects of The Sea Serpent, nor the commentary of Tintorera. No, instead we are treated to a handful of teens from any random failed \\'80s public access sitcom battling bullies and the local sheriff.<br /><br />Shark attacks are realized by quick cuts of documentary footage with actors thrashing about in the water, occasionally with a bit of what appears to be orange-ish paint thrown into the water. Not a minute of original shark footage exists in this celluloid waste dump.<br /><br />Normally, I, or somebody like me, would read a dismal review like this one and say \"cool, I gotta find a copy of this!\" That\\'s the same thought I had when I read another viewer\\'s review on this very site. How wrong I was.<br /><br />So...from one bad movie fan to another...let this collect dust on the shelf...grab Up From the Depths or The Great Alligator instead to satisfy your need for something evil lurking in the water.',\n",
       "       'I got subjected to this pile one Wednesday afternoon when my mother-in-law was watching it. I can\\'t get over someone basically doing a remake of a crappy high budget Hollywood flop (\"the CORE\" with washed up actors like Luke Perry). If the HIGH budget one flopped, what makes people think doing the SAME movie 2 years later with NO budget would go anywhere? I was laughing through most of the movie because of how insanely similar it was (in fact I am shocked it\\'s not held up in Legal rather than airing on TV), and how it was basically the script of the CORE just redone badly, which if you have seen \"the Core\", you know why doing it worse is funny, since the CORE was ALREADY so bad it was funny.<br /><br />If you enjoy getting a laugh out of REALLY bad movies, this one will be right up your alley. The only thing I can say, is that I wish Luke Perry was able to have a career, because he isn\\'t a horrible actor.. he just lands horrible roles. Crappy made for TV movies that will only run on daytime television is pretty much one step closer to the end for him, if it wasn\\'t for 90210 he would have a career.',\n",
       "       'How can ANYBODY give this anything higher than a \\'1\\'?<br /><br />I thought \"Manos, the Hands of Fate\" would forever be the worst movie ever to impinge itself upon my optic nerve. Indeed, I didn\\'t think anything COULD be worse.<br /><br />I was wrong. \"Galaxina\" is that rare movie where EVERY SINGLE ELEMENT of it is achingly, agonizingly, blindingly bad. How often have you watched a movie and commented, \"Who the hell LIT this thing?\" From lighting to soundtrack to effects to script to acting to cinematography to . . . well, EVERYTHING, this movie is absolutely unendurable. It\\'s so bad, I couldn\\'t even tell for some time if it was the worst comedy or the worst drama I\\'d ever seen.<br /><br />It\\'s too bad even to be laughable. I\\'d sooner eat a platefull of broken glass than sit through it again.',\n",
       "       'Horror films are a curious thing, sometimes they manage to stumble across a formula that works very well, sometimes they try valiantly to tell a worthy story despite time and budget problems, sometimes they\\'re so bad they\\'re actually kinda fun...and sometimes they\\'re \"The Cavern\".<br /><br />A good horror/suspense film should contain vagaries that keep you guessing, they should allow you to be interested in the characters and their motivations so that you actually have some sort of reaction when they die. However, The Cavern chooses instead to introduce elements that work at first, only to be negated by it\\'s own lackluster storytelling.<br /><br />All the characters are completely forgettable and any actual back story that might make any of them even remotely interesting is blurted out within a 30 second monologue, making it impossible to do anything more than laugh as characters are picked off almost at random and on more than one occasion in the least possibly frightening way.<br /><br />(To spoil a scene a bit, one victim is taken during a complete blackout which might have been a little frightening if the sound effect used to indicate his killing wasn\\'t reminiscent of stirring a pot of too thick Macaroni and Cheese) Add to this formula the camera that work makes me think the director saw one too many Nine Inch Nails videos and an ending which in an attempt to be shocking serves almost no purpose but to annoy and confuse the viewer and you have an almost completely unwatchable horror film that fails on every level.<br /><br />I\\'ll be honest with you, if you want a claustrophobic caving horror movie go watch \"The Descent\", and I feel weird saying that because I didn\\'t particularly enjoy that movie either.',\n",
       "       'I really tried to like \"Saw.\" The story was good, and I admire the breakneck pace of the way the film was shot. However, there were too many clichés and elements that while they may have looked \"cool,\" they really made no sense.<br /><br />First, what I liked about the film was the overall tone of the story, and I thought the premise was fantastic. The character of The Jigsaw Killer was intriguing and reminded me of vintage Dario Argento. Danny Glover was excellent in his role as an obsessed detective, and Monica Potter was good in a thankless role as a doctor\\'s abducted wife. Shawnee Smith\\'s scene was incredible and both Wan and Whannell should be commended for using that scene as a demo to get the backing for the film. The whole notion that the Jigsaw killer finds a way for his victims to kill themselves is an excellent notion, but once the film got going, logic began to get away.<br /><br />Once they showed that Zap was the one holding Dr. Gordon\\'s wife and daughter hostage, it was apparent that he was not the Jigsaw killer, and part of it. The scene where he puts a stethoscope over the heart of the terrified Diana while Allison screams at him through her gag was one of the most gratuitous scenes I\\'ve ever seen. It was supposed to be chilling, but establishing nothing. Also, since the Jigsaw killer finds a way for victims to kill themselves, he has no problem slicing the throat of a police officer. I guess it\\'s a way to show that he doesn\\'t want to get caught and will go to any means necessary to ensure that doesn\\'t happen, but to me it just didn\\'t make any logic, especially when he shows no remorse over the death of another detective (which I did like that setup, just would\\'ve been better if given to someone who actually deserved it).<br /><br />I felt Leigh Whannell was fine as Adam. It wasn\\'t really a showy role and he has a lot of potential as a character actor. However, I wasn\\'t too fond of James Wan\\'s direction. The story may have been original, but the direction sure wasn\\'t. I guess I\\'m tired of quick, MTV style cuts in favor of the old approach to directing, but a lot of scenes involving the Jigsaw killer reminded me too much of \"Se7en,\" way too much of it. As the film progressed, to me it was starting to become a series of demo reels like \"Hey, look what I can do.\" Instead of being intriguing, it became very distracting. But hey, it worked. He\\'s now directing \"Final Destination 3\" so he\\'s on a path to a successful career, and I think he will become a top notch horror director in years to come.<br /><br />What really did it in for me was the ending. Like I said, I knew that Jigsaw wasn\\'t Zap, and I liked how Adam discovered the mini tape player after killing him. It would\\'ve had a terrific ending, except for one fatal flaw: I felt they should\\'ve left it where you didn\\'t know who the killer was. The way it was done was only done for one reason: Boy, are we clever? Uh, no. To me, it just didn\\'t make sense.<br /><br />Some of the better horror films are made for a reason, where there is a reason for the violence we see in the story. While \"Saw\" started out very well, it started to become undone by the filmmakers\\' insatiable need to be \"cool\" and detract from the winning story they had. Perhaps if they weren\\'t too insistent on making the films themselves, and relied on a more experienced horror director to helm it, I think it would\\'ve been the horror classic that it undeservedly has been given over the past four months. If this and \"Cabin Fever\" are the future of horror, I\\'m very scared.',\n",
       "       \"This line is a good summary of this movie. If you have read it, and watched 20 minutes of the movie, you will know exactly how the rest of the movie is going to behave. Some researcher named Surgei (pronounced SirGay) are searching for hell in the underworld of Moscow. However he seems to have disappeared, and his friend Oven follows with a team to search after him. Could they have find a more boring plot? Some bad actors looking after an old man in the underground. The acting is very bad, the romance really feels pointless and untrue, often there is no good reason for the way the characters are acting, nothing is scary and most of all: there's not happening anything interesting in the whole, entire movie. They just walk, asking some gang leaders and other guys about the way, walk some more, complain some, finds the old man, and then they run, and finally finds the way out of the underground.<br /><br />The only thing that provides me from giving this movie the lowest of all ratings is the atmosphere. If you just want to see a movie for that, this may be a good choice. It's dark, and it's mystical and murky. However, the rest of the movie is really dull. You just sit there all the time, waiting for the movie to begin or something to happening. It's actually happening some things, but they are not very well performed. For example, i didn't really notice when one of the characters disappeared, and I swear I wasn't sleeping or something. And I don't understand what's dangerous with these children... They just run around in the underground together, scratching it walls with sticks (I suppose it is meant to be scary in some way).<br /><br />Just watch this movie if you are in immediate need of some murky atmospheres.\",\n",
       "       \"A really very bad movie, with a very few good moments or qualities.<br /><br />It starts off with pregnant Linda Blair, who runs down a hallways to flee what might be monsters or people with pitchforks, I'm not sure. She jumps through a window and wakes up, and we see she is very pregnant. The degree to which she is pregnant varies widely throughout the movie.<br /><br />She and an annoying and possibly retarded little boy who I thought was her son travel to an abandoned hotel on an island. Italian horror directors find the most irritating little boys to put in their movies! On the island already are David Hasselhoff and his German-speaking virgin girlfriend (you know how Germans are said to love Hasselhoff...). He's taking photographs, and she's translating an esoteric German book about witches, I think.<br /><br />Also traveling to the island are an older couple who have purchased it, and a real estate agent, and a woman I thought was their daughter. Evidently she was an architect, and Linda Blair and the boy are the older couple's children. I guess they all traveled to the island together, but it really seemed like Linda and the boy were apart from the rest of them (maybe they were filmed separately).<br /><br />The hotel seems neat, certainly from the exteriors, but it isn't used to any great effect. An old woman in bad makeup and a black cloak keeps appearing to the boy and chants something in German sometimes, which he eventually records on his Sesame Street tape recorder.<br /><br />People start getting killed, either in their dreams, or sucked into hell or something. Some of these gore scenes are OK, but not enough to recommend the movie. Though the copy I watched stated it is uncut on the box cover, the death of one character whose veins explode really seems to have been cut. Much of the scene is showing another character's reaction shots, since we're not seeing anything ourselves. The creepiest scene is one in which a man or demon with a really messy-looking wound of a mouth rapes someone. He looked particularly nasty. There's a laughably and painfully bad scene in which Linda Blair is possessed. I wish if a horror movie is going to cast her, they would do something original with her role, and let her leave Exorcist behind her (except for the yearly horror conventions).<br /><br />In the weird, largely Italian, tradition of claiming to be a sequel to something it is unrelated to, this is also AKA La Casa 4 and Ghosthouse 2. That is, it is supposedly a sequel to Casa 3 - Ghosthouse, La (1988) - it's not (that's also a better movie than this one). La Casa 1 and two were The Evil Dead (1981) and Evil Dead II (1987) - again unrelated to Witchery and La Casa 3 (and much better than those). There's also a Casa 5, La (1990) AKA House 5, which seems to want to be a sequel to the fake La Casa series and the series House: House (1986) House II: The Second Story (1987), The Horror Show (1989) AKA House III, and House IV (1992). How's The Horror Show fit in there? It doesn't really, it claimed to be a sequel, thus requiring the real series entry to renumber itself to cause less (or more?) confusion. Oddly, The Horror Show is also AKA Horror House, and La Casa 5 is also AKA Horror House 2. Does your head hurt yet?\",\n",
       "       'Why is it that every time I mention this movie to somebody, I have to hear 10 minutes of praise about it. I have come to the conclusion that any movie that has a twist upon a twist is deemed \"genius\" by anyone who watches it. Is that really what film has become? Or is it that any time someone says \"Wow, that is so cool\" everybody has to agree with them and has no opinion of their own? How this movie has a 7.5 rating is a disgrace to the film industry in general. It has also become yet another movie that \"needs\" two sequels for it, so I am going to have to hear about this horrible franchise for quite a while longer.<br /><br />Now to the film and why it is so bad. The original concept of it is actually not that bad, as there has not been a good serial killer movie in a while. The writing for this film is horrible as well as the execution. OK, so its a low budget movie, but that should not change the story or writing. The actors could not be worse in their attempt to make us scared of this killer or just scared of this movie. So they go out and get a big name in Danny Glover, but his talents (whatever those are) are wasted because HIS CHARACTER IS WORTHLESS. Why was he even in this movie? What was his whole fight at the end turned out to be useless and misleading for what the audience believes is happening. This is of course the filmmakers intent, but couldn\\'t there have been a better way to do this without making us watch all that garbage. And then the \"big\" twist comes (was this the third or fourth?) and the whole audience is shocked and walks out of the theater like this is some kind of masterpiece. Sure the movie gets people talking about the storyline and what not, but that was not the only flaw in this film. The direction was trying to be way too creative with what it was working with, and the flashback sequences were used merely as a shock effect.<br /><br />After watching this movie, even if you enjoyed it, go back and review the film and you will soon understand why it is not worthy of the praise it is receiving. For an amazing serial killer film check out Se7en if you have not done so. That is what this film wanted to be. I have gotten into more arguments about this film than probably any others and will continue to argue against it. Please do not support this franchise for not only your sake, but mine and everybody else\\'s sake as well. Hollywood needs to find a good horror movie to make, rather than 1,000 remakes, sequels, and \"shock\" factor films (such as this). Oh yeah the saw 2 tag line sounds real promising: \"Oh yes, there will be blood.\" Yaaayyyy!!!! Sweet!! blood, that must mean its good right? Give me a break. Sorry everybody who love this movie, but poor writing, flashy direction, and bad acting does not make a good movie.',\n",
       "       'They call this film \"euro trash horror\". <br /><br />Well, it\\'s not horror. The film takes place in Europe, so yes, it\\'s \"euro\". Trash? Ah yes, it\\'s trash all right.<br /><br />You know you\\'re in for a great movie when, right at the beginning, the DVD gives you text on the screen apologizing for the quality of the print you\\'re about to watch. Expect crackles, odd jarring cuts, and for the movie not to fit the screen. Plus there\\'s the sound -- at first I thought I was watching a dubbed film. Then, watching the lips carefully, I realized that, no, it\\'s that the sound quality is embarrassingly bad and out of synch.<br /><br />The plot itself is fairly goofy -- an old, disfigured woman named Dr Bannister kills a scientist for his youth formula. I\\'m not giving much away because when you see the \"old woman\" it\\'s pretty obvious she\\'s under a layer of thick, badly applied make-up. Anyone with a lick of sense, seeing the fake old age, knows what\\'s coming next.<br /><br />Yes, the \"old crone\" is miraculously transformed into a beautiful young woman -- complete with face make-up and a long wig of hair! Zounds!<br /><br />When I say the old woman is disfigured, I mean she has cornflakes glued to her face. The film makes no attempt to explain how the cornflakes got there. For that matter, there is no attempt to explain anything at all relating to any of the characters. They\\'re never developed beyond the level of finger puppets. <br /><br />The two policemen pursuing our anti-heroine just wander about, apparently baffled by the simplest clues. The murdered scientist was working on a youth serum, the old woman has disappeared, and we keep running into a young woman -- how do these pieces fit together?! What does it all mean?! One of the cops sweats a lot and pats his face with a cloth. The other smokes a pipe. That\\'s pretty much all we get, character-wise.<br /><br />Dr Bannister (the crone, now a beauty) goes around wearing odd costumes and then taking them off so we can see her flesh. She has affairs with men. She gets in a catfight with a young woman in a nightgown. She goes to Geneva so we can see the lake there. She water- skis a bit, then takes off her wet suit to reveal a strange bead-curtain bikini. She takes off her clothes again in a strange ninja costume striptease.<br /><br />The ending? Well, without giving anything away, it\\'s just a bizarre, tacked on conclusion that makes about as little sense as the rest of the picture. It\\'s the sort of thing a writer comes up with when the director wakes him up at 4 AM and says, \"Quick! We need an ending for our movie! What happens next?\"<br /><br />The writer mumbles something half awake, and the director runs with it.<br /><br />What\\'s good about this movie? Some of the music is campy and fun. That classic 60s organ music that\\'s so corny it\\'s enough to make you laugh out loud. There are some odd seduction scenes, bizarre dialogue, goofy moments. <br /><br />It\\'s very close to being so bad it\\'s good. I did manage to watch it from start to finish without gouging out my eyes or sobbing. I guess that\\'s praise, of sorts.\\''],\n",
       "      dtype=object)"
      ]
     },
     "execution_count": 19,
     "metadata": {},
     "output_type": "execute_result"
    }
   ],
   "source": [
    "data_test.iloc[indices_min].text.values"
   ]
  },
  {
   "cell_type": "markdown",
   "metadata": {},
   "source": [
    "## Написать свои функции, которые бы считали tp, fp, tn, fn, и возвращали точность, полноту и ф-меру и применить их к результатам, полученным вашими классификаторами (если все сделано правильно, то результаты должны совпадать с полученными  sklearn метриками)."
   ]
  },
  {
   "cell_type": "code",
   "execution_count": 20,
   "metadata": {},
   "outputs": [],
   "source": [
    "def get_tp(y_true, y_pred):\n",
    "    return sum([1 for ind, val in enumerate(y_true) if y_pred[ind] == 1 and val == 1])\n",
    "\n",
    "def get_tn(y_true, y_pred):\n",
    "    return sum([1 for ind, val in enumerate(y_true) if y_pred[ind] == 0 and val == 0])\n",
    "\n",
    "def get_fn(y_true, y_pred):\n",
    "    return sum([1 for ind, val in enumerate(y_true) if y_pred[ind] == 0 and val == 1])\n",
    "\n",
    "def get_fp(y_true, y_pred):\n",
    "    return sum([1 for ind, val in enumerate(y_true) if y_pred[ind] == 1 and val == 0])\n",
    "\n",
    "def get_precision(y_true, y_pred):\n",
    "    return get_tp(y_true, y_pred) / (get_tp(y_true, y_pred) + get_fp(y_true, y_pred))\n",
    "\n",
    "def get_recall(y_true, y_pred):\n",
    "    return get_tp(y_true, y_pred) / (get_tp(y_true, y_pred) + get_fn(y_true, y_pred))\n",
    "\n",
    "def get_f_measure(y_true, y_pred, beta=1):\n",
    "    prec = get_precision(y_true, y_pred)\n",
    "    rec = get_recall(y_true, y_pred)\n",
    "    return (1 + beta**2) * (prec * rec) / (beta**2 * (prec + rec))"
   ]
  },
  {
   "cell_type": "code",
   "execution_count": 21,
   "metadata": {},
   "outputs": [
    {
     "data": {
      "text/plain": [
       "(0.8594421582075903, 0.75184, 0.8020482184766374, None)"
      ]
     },
     "execution_count": 21,
     "metadata": {},
     "output_type": "execute_result"
    }
   ],
   "source": [
    "precision_recall_fscore_support(y_true, y_pred, average=\"binary\")"
   ]
  },
  {
   "cell_type": "code",
   "execution_count": 22,
   "metadata": {},
   "outputs": [
    {
     "data": {
      "text/plain": [
       "0.8594421582075903"
      ]
     },
     "execution_count": 22,
     "metadata": {},
     "output_type": "execute_result"
    }
   ],
   "source": [
    "get_precision(y_true, y_pred)"
   ]
  },
  {
   "cell_type": "code",
   "execution_count": 23,
   "metadata": {},
   "outputs": [
    {
     "data": {
      "text/plain": [
       "0.75184"
      ]
     },
     "execution_count": 23,
     "metadata": {},
     "output_type": "execute_result"
    }
   ],
   "source": [
    "get_recall(y_true, y_pred)"
   ]
  },
  {
   "cell_type": "code",
   "execution_count": 24,
   "metadata": {},
   "outputs": [
    {
     "data": {
      "text/plain": [
       "0.8020482184766374"
      ]
     },
     "execution_count": 24,
     "metadata": {},
     "output_type": "execute_result"
    }
   ],
   "source": [
    "get_f_measure(y_true, y_pred)"
   ]
  },
  {
   "cell_type": "code",
   "execution_count": null,
   "metadata": {},
   "outputs": [],
   "source": []
  }
 ],
 "metadata": {
  "kernelspec": {
   "display_name": "Python 3",
   "language": "python",
   "name": "python3"
  },
  "language_info": {
   "codemirror_mode": {
    "name": "ipython",
    "version": 3
   },
   "file_extension": ".py",
   "mimetype": "text/x-python",
   "name": "python",
   "nbconvert_exporter": "python",
   "pygments_lexer": "ipython3",
   "version": "3.7.7"
  }
 },
 "nbformat": 4,
 "nbformat_minor": 2
}
