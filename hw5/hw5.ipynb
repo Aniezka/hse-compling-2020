{
 "cells": [
  {
   "cell_type": "markdown",
   "metadata": {},
   "source": [
    "Реализуйте класс MLP, представляющий многослойный перцептрон. Релизуйте возможность сохранить веса в файлы и загрузить их обратно. Убедитесь в том, чтоб перцептрон обучается.\n",
    "\n",
    "Реализуйте классы\n",
    "\n",
    "ActivationF, TanhF(ActivationF)\n",
    "\n",
    "Unit\n",
    "\n",
    "Layer\n",
    "\n",
    "MLP\n",
    "\n",
    "Детали реализации остаются за вами, но ниже приведены примеры -- заготовки, которые подошли мне, когда я сочинял тестовое решение.\n",
    "\n",
    "Нельзя использовать математические и ML библиотеки кроме стандартных math и random. Использование матриц нежелательно -- идея в том, чтобы понять, что происходит с каждым весом в сети.\n",
    "\n"
   ]
  },
  {
   "cell_type": "markdown",
   "metadata": {},
   "source": [
    "## Критерии \n",
    "(максимум можно получить 12 баллов):\n",
    "\n",
    "про forward\n",
    "* **(4 балла)** верно реализованы forward pass, сохранение модели в файл и восстановление модели из файла +\n",
    "* **(1 балл)** верно реализован класс про функцию *Tanh* +\n",
    "\n",
    "про backward (можно получить либо 1 либо 3 балла)\n",
    "* **(1 балл)** как-то организован backward pass, но допущены значительные ошибки: лосс принципиально не падает, веса не обновляются или что-то такое.\n",
    "* **(3 балла)** верно реализован backward pass, модель учится +\n",
    "\n",
    "про вокруг\n",
    "* **(2 балла)** при верном backward pass +\n",
    "  * добавлена возможность использовать разные функции активации на разных слоях +\n",
    "  * **И** софтмакс тоже вынесен в аналогичный активациям класс +\n",
    "* **(2 балла)** при верном backward pass добавлена L-1 или L-2 регуляризация или дропаут +"
   ]
  },
  {
   "cell_type": "code",
   "execution_count": 1,
   "metadata": {},
   "outputs": [],
   "source": [
    "import abc\n",
    "import math\n",
    "import random\n",
    "\n",
    "class ActivationF(abc.ABC):\n",
    "\n",
    "    def calc(self, x):\n",
    "        pass\n",
    "\n",
    "    def derive(self, x):\n",
    "        pass\n",
    "\n",
    "    @staticmethod\n",
    "    def from_name(name=\"tanh\"):\n",
    "        if name == \"tanh\":\n",
    "            return TanhF()\n",
    "        if name == \"sigmoid\":\n",
    "            return SigmF()\n",
    "        if name == \"softmax\":\n",
    "            return Softmax()"
   ]
  },
  {
   "cell_type": "code",
   "execution_count": 2,
   "metadata": {},
   "outputs": [],
   "source": [
    "class SigmF(ActivationF):\n",
    "    \n",
    "    def calc(self, x):\n",
    "        return 1 / (1 + math.exp(-x))#math.sigmoid(x)\n",
    "    \n",
    "    def derive(self, x):\n",
    "        return (1 - self.calc(x)) * self.calc(x) \n",
    "    \n",
    "class TanhF(ActivationF):\n",
    "    \n",
    "    def calc(self, x):\n",
    "        return math.tanh(x)\n",
    "    \n",
    "    def derive(self, x):\n",
    "        return 1 - math.tanh(x)**2\n",
    "    \n",
    "class Softmax(ActivationF):\n",
    "    \n",
    "    def calc(self, some_data):\n",
    "        es_x = [math.e ** x for x in some_data]\n",
    "        return [e_x / sum(es_x) for e_x in es_x]\n",
    "    \n",
    "    def derive(self, some_data):\n",
    "        return [self.calc(x) * (1 - self.calc(x)) for x in some_data]"
   ]
  },
  {
   "cell_type": "markdown",
   "metadata": {},
   "source": [
    "### Unit\n",
    "класс `Unit` будет представлять нейрон в нейронной сети.  \n",
    "словесно работает нейрон так: \n",
    "1. нейрону на вход подаётся набор чисел, \n",
    "2. он считает их взвешенную сумму, \n",
    "3. применяет к ней функцию активации.\n",
    "\n",
    "обычно нейрон также умеет, зная, как он вложился в ошибку, обновить свои веса. это -- работа метода backward."
   ]
  },
  {
   "cell_type": "code",
   "execution_count": 3,
   "metadata": {},
   "outputs": [],
   "source": [
    "import numpy as np\n",
    "\n",
    "class Unit:\n",
    "    def __init__(self,\n",
    "                 input_size,\n",
    "                 prev_layer: \"Layer\" = None,\n",
    "                 activation='sigmoid',\n",
    "                 learning_rate=0.01, \n",
    "                 lambda_L2=0.01):\n",
    "        self.activation = ActivationF.from_name(activation)\n",
    "        self.weights = [random.uniform(-1, 1) for weight_n in range(input_size)]\n",
    "        self.b = random.uniform(-1, 1)\n",
    "        self.prev_layer = prev_layer\n",
    "        self.learning_rate = learning_rate\n",
    "        self.lambda_L2 = lambda_L2\n",
    "\n",
    "    def forward(self, X):\n",
    "        self.X = X\n",
    "        self.Z = sum([i*j for (i, j) in zip(self.weights, self.X)]) + self.b\n",
    "        self.A = self.activation.calc(self.Z)\n",
    "        return self.A\n",
    "\n",
    "    def backward(self, dX, learning_rate=0.01):\n",
    "        dZ = self.activation.derive(self.Z) * dX\n",
    "        dW = [dZ * i + self.lambda_L2 * j for (i, j) in zip(self.X, self.weights)]\n",
    "        db = dZ\n",
    "        dX = sum([i*dZ for i in self.weights])\n",
    "        self.weights = [i - self.learning_rate * j for (i, j) in zip(self.weights, dW)]\n",
    "        self.b = self.b - self.learning_rate * db\n",
    "        return dX\n",
    "        # your code here"
   ]
  },
  {
   "cell_type": "markdown",
   "metadata": {},
   "source": [
    "### Layer\n",
    "Должен иметь возможность создать очередной слой перцептрона."
   ]
  },
  {
   "cell_type": "code",
   "execution_count": 4,
   "metadata": {},
   "outputs": [],
   "source": [
    "class Layer:\n",
    "    def __init__(self,\n",
    "                 input_size,\n",
    "                 size, \n",
    "                 prev_layer = None,\n",
    "                 activation='sigmoid',\n",
    "                 learning_rate=0.01, \n",
    "                 lambda_L2=0.01):\n",
    "        self.activation = activation\n",
    "        self.units = [Unit(input_size,\n",
    "                           prev_layer=prev_layer,\n",
    "                           activation=activation,\n",
    "                           learning_rate=0.01,\n",
    "                           lambda_L2=0.01)\n",
    "                      for unit_n in range(size)]\n",
    "    \n",
    "    def forward(self, X):\n",
    "        return [unit.forward(X) for unit in self.units]\n",
    "\n",
    "    def backward(self, dX):\n",
    "        return [unit.backward(dx) for (unit, dx) in zip(self.units, dX)]"
   ]
  },
  {
   "cell_type": "markdown",
   "metadata": {},
   "source": [
    "### MLP\n",
    "MLP должен \n",
    "* иметь произвольное кол-во слоёв произвольных размерностей\n",
    "* обучатьтся\n",
    "* уметь сохранять/загружать веса"
   ]
  },
  {
   "cell_type": "code",
   "execution_count": 5,
   "metadata": {},
   "outputs": [],
   "source": [
    "import pickle\n",
    "\n",
    "class MLP:\n",
    "    def __init__(self,\n",
    "                 input_size, \n",
    "                 output_size,\n",
    "                 sizes, \n",
    "                 activations, \n",
    "                 learning_rate=0.01, \n",
    "                 lambda_L2=0.01):\n",
    "        self.activations = activations\n",
    "        \n",
    "        layers_sizes = [input_size] + sizes + [output_size]\n",
    "        self.layers = []\n",
    "        self.out_actF = ActivationF.from_name(\"softmax\")\n",
    "        prev_added_layer = None\n",
    "        for layer_in_size, layer_out_size, act in zip(layers_sizes[:-1], layers_sizes[1:], activations):\n",
    "            self.layers.append(Layer(layer_in_size,\n",
    "                                     layer_out_size,\n",
    "                                     prev_layer=prev_added_layer,\n",
    "                                     activation=act,\n",
    "                                     learning_rate=learning_rate,\n",
    "                                     lambda_L2=lambda_L2))\n",
    "            prev_added_layer = self.layers[-1]\n",
    "    \n",
    "    def train_single_entry(self, features, target_mhe):\n",
    "        for unit in self.layers[0].units:\n",
    "            unit.features = features\n",
    "\n",
    "        for layer in self.layers:\n",
    "            curr_layer_output = layer.forward(features)\n",
    "        last_layer_output = curr_layer_output\n",
    "\n",
    "        pred = self.out_actF.calc(last_layer_output)\n",
    "        loss = - sum(class_target * math.log(class_pred)\n",
    "                     for class_target, class_pred in zip(target_mhe, pred))\n",
    "\n",
    "        dLoss_dLastLayerOutput = [class_pred - class_target\n",
    "                                  for class_target, class_pred in zip(target_mhe, pred)]    \n",
    "        \n",
    "        for layer in reversed(self.layers):\n",
    "             dLoss_dLastLayerOutput = layer.backward(dLoss_dLastLayerOutput)\n",
    "        return pred\n",
    "        \n",
    "    def predict(self, features):\n",
    "        for layer in self.layers:\n",
    "            curr_layer_output = layer.forward(features)\n",
    "        return self.out_actF.calc(curr_layer_output)\n",
    "    \n",
    "    def to_file(self, path):\n",
    "        with open(path, \"wb\") as f:\n",
    "            pickle.dump(self, f)\n",
    "        \n",
    "    @staticmethod\n",
    "    def from_file(path):\n",
    "        with open(path, \"rb\") as f:\n",
    "            res = pickle.load(f)\n",
    "        return res"
   ]
  },
  {
   "cell_type": "code",
   "execution_count": 6,
   "metadata": {},
   "outputs": [
    {
     "data": {
      "text/html": [
       "<div>\n",
       "<style scoped>\n",
       "    .dataframe tbody tr th:only-of-type {\n",
       "        vertical-align: middle;\n",
       "    }\n",
       "\n",
       "    .dataframe tbody tr th {\n",
       "        vertical-align: top;\n",
       "    }\n",
       "\n",
       "    .dataframe thead th {\n",
       "        text-align: right;\n",
       "    }\n",
       "</style>\n",
       "<table border=\"1\" class=\"dataframe\">\n",
       "  <thead>\n",
       "    <tr style=\"text-align: right;\">\n",
       "      <th></th>\n",
       "      <th>LotArea</th>\n",
       "      <th>OverallQual</th>\n",
       "      <th>OverallCond</th>\n",
       "      <th>TotalBsmtSF</th>\n",
       "      <th>FullBath</th>\n",
       "      <th>HalfBath</th>\n",
       "      <th>BedroomAbvGr</th>\n",
       "      <th>TotRmsAbvGrd</th>\n",
       "      <th>Fireplaces</th>\n",
       "      <th>GarageArea</th>\n",
       "      <th>AboveMedianPrice</th>\n",
       "    </tr>\n",
       "  </thead>\n",
       "  <tbody>\n",
       "    <tr>\n",
       "      <th>0</th>\n",
       "      <td>8450</td>\n",
       "      <td>7</td>\n",
       "      <td>5</td>\n",
       "      <td>856</td>\n",
       "      <td>2</td>\n",
       "      <td>1</td>\n",
       "      <td>3</td>\n",
       "      <td>8</td>\n",
       "      <td>0</td>\n",
       "      <td>548</td>\n",
       "      <td>1</td>\n",
       "    </tr>\n",
       "    <tr>\n",
       "      <th>1</th>\n",
       "      <td>9600</td>\n",
       "      <td>6</td>\n",
       "      <td>8</td>\n",
       "      <td>1262</td>\n",
       "      <td>2</td>\n",
       "      <td>0</td>\n",
       "      <td>3</td>\n",
       "      <td>6</td>\n",
       "      <td>1</td>\n",
       "      <td>460</td>\n",
       "      <td>1</td>\n",
       "    </tr>\n",
       "    <tr>\n",
       "      <th>2</th>\n",
       "      <td>11250</td>\n",
       "      <td>7</td>\n",
       "      <td>5</td>\n",
       "      <td>920</td>\n",
       "      <td>2</td>\n",
       "      <td>1</td>\n",
       "      <td>3</td>\n",
       "      <td>6</td>\n",
       "      <td>1</td>\n",
       "      <td>608</td>\n",
       "      <td>1</td>\n",
       "    </tr>\n",
       "    <tr>\n",
       "      <th>3</th>\n",
       "      <td>9550</td>\n",
       "      <td>7</td>\n",
       "      <td>5</td>\n",
       "      <td>756</td>\n",
       "      <td>1</td>\n",
       "      <td>0</td>\n",
       "      <td>3</td>\n",
       "      <td>7</td>\n",
       "      <td>1</td>\n",
       "      <td>642</td>\n",
       "      <td>0</td>\n",
       "    </tr>\n",
       "    <tr>\n",
       "      <th>4</th>\n",
       "      <td>14260</td>\n",
       "      <td>8</td>\n",
       "      <td>5</td>\n",
       "      <td>1145</td>\n",
       "      <td>2</td>\n",
       "      <td>1</td>\n",
       "      <td>4</td>\n",
       "      <td>9</td>\n",
       "      <td>1</td>\n",
       "      <td>836</td>\n",
       "      <td>1</td>\n",
       "    </tr>\n",
       "  </tbody>\n",
       "</table>\n",
       "</div>"
      ],
      "text/plain": [
       "   LotArea  OverallQual  OverallCond  TotalBsmtSF  FullBath  HalfBath  \\\n",
       "0     8450            7            5          856         2         1   \n",
       "1     9600            6            8         1262         2         0   \n",
       "2    11250            7            5          920         2         1   \n",
       "3     9550            7            5          756         1         0   \n",
       "4    14260            8            5         1145         2         1   \n",
       "\n",
       "   BedroomAbvGr  TotRmsAbvGrd  Fireplaces  GarageArea  AboveMedianPrice  \n",
       "0             3             8           0         548                 1  \n",
       "1             3             6           1         460                 1  \n",
       "2             3             6           1         608                 1  \n",
       "3             3             7           1         642                 0  \n",
       "4             4             9           1         836                 1  "
      ]
     },
     "execution_count": 6,
     "metadata": {},
     "output_type": "execute_result"
    }
   ],
   "source": [
    "import pandas as pd\n",
    "from sklearn import preprocessing\n",
    "from sklearn.model_selection import train_test_split\n",
    "import matplotlib.pyplot as plt\n",
    "\n",
    "\n",
    "df = pd.read_csv('housepricedata.csv')\n",
    "df.head()"
   ]
  },
  {
   "cell_type": "code",
   "execution_count": 7,
   "metadata": {},
   "outputs": [
    {
     "name": "stdout",
     "output_type": "stream",
     "text": [
      "(1022, 10) (219, 10) (219, 10) (1022,) (219,) (219,)\n"
     ]
    }
   ],
   "source": [
    "dataset = df.values\n",
    "X = dataset[:,0:10]\n",
    "Y = dataset[:,10]\n",
    "min_max_scaler = preprocessing.MinMaxScaler()\n",
    "X_scale = min_max_scaler.fit_transform(X)\n",
    "\n",
    "X_train, X_val_and_test, Y_train, Y_val_and_test = train_test_split(X_scale, Y, test_size=0.3)\n",
    "X_val, X_test, Y_val, Y_test = train_test_split(X_val_and_test, Y_val_and_test, test_size=0.5)\n",
    "\n",
    "print(X_train.shape, X_val.shape, X_test.shape, Y_train.shape, Y_val.shape, Y_test.shape)\n"
   ]
  },
  {
   "cell_type": "code",
   "execution_count": 8,
   "metadata": {},
   "outputs": [],
   "source": [
    "Y_train\n",
    "y_train_buf = []\n",
    "for i in Y_train:\n",
    "    if i == 1:\n",
    "        y_train_buf.append([0, 1])\n",
    "    else:\n",
    "        y_train_buf.append([1, 0])"
   ]
  },
  {
   "cell_type": "code",
   "execution_count": 9,
   "metadata": {},
   "outputs": [
    {
     "name": "stdout",
     "output_type": "stream",
     "text": [
      "Epoch:  99 from 100\r"
     ]
    }
   ],
   "source": [
    "losses = []\n",
    "accuracy = []\n",
    "epoch = 100\n",
    "\n",
    "mlp = MLP(10, 2, [10, 10], activations=['sigmoid', 'sigmoid', 'sigmoid'], learning_rate=0.01, lambda_L2=0.01)\n",
    "\n",
    "for ep in range(epoch):\n",
    "    print(\"Epoch: \", ep, \"from\", epoch, end=\"\\r\")\n",
    "    loss = 0\n",
    "    acc = 0\n",
    "    for ind in range(X_train.shape[0]):\n",
    "        pred = mlp.train_single_entry(X_train[ind, :], y_train_buf[ind])\n",
    "        loss += - sum(class_target * math.log(class_pred)\n",
    "                     for class_target, class_pred in zip(y_train_buf[ind], pred))\n",
    "        acc += 1 if sum([1 for i, j in zip(y_train_buf[ind], np.round(pred)) if i == j]) == len(y_train_buf[ind]) else 0\n",
    "    accuracy.append(acc/X_train.shape[0])\n",
    "    losses.append(loss / X_train.shape[0])"
   ]
  },
  {
   "cell_type": "code",
   "execution_count": 10,
   "metadata": {},
   "outputs": [
    {
     "data": {
      "text/plain": [
       "Text(0, 0.5, 'Loss function')"
      ]
     },
     "execution_count": 10,
     "metadata": {},
     "output_type": "execute_result"
    },
    {
     "data": {
      "image/png": "[encoded data removed]",
      "text/plain": [
       "<Figure size 1008x864 with 1 Axes>"
      ]
     },
     "metadata": {
      "needs_background": "light"
     },
     "output_type": "display_data"
    }
   ],
   "source": [
    "plt.figure(figsize=(14, 12))\n",
    "plt.plot(losses)\n",
    "plt.grid()\n",
    "plt.title('Training process')\n",
    "plt.xlabel('Iterations')\n",
    "plt.ylabel('Loss function')"
   ]
  },
  {
   "cell_type": "code",
   "execution_count": 11,
   "metadata": {},
   "outputs": [
    {
     "data": {
      "text/plain": [
       "Text(0, 0.5, 'Accuracy function')"
      ]
     },
     "execution_count": 11,
     "metadata": {},
     "output_type": "execute_result"
    },
    {
     "data": {
      "image/png": "[encoded data removed]",
      "text/plain": [
       "<Figure size 1008x864 with 1 Axes>"
      ]
     },
     "metadata": {
      "needs_background": "light"
     },
     "output_type": "display_data"
    }
   ],
   "source": [
    "plt.figure(figsize=(14, 12))\n",
    "plt.plot(accuracy)\n",
    "plt.grid()\n",
    "plt.title('Training process')\n",
    "plt.xlabel('Iterations')\n",
    "plt.ylabel('Accuracy function')"
   ]
  },
  {
   "cell_type": "markdown",
   "metadata": {},
   "source": [
    "## Save - load test"
   ]
  },
  {
   "cell_type": "code",
   "execution_count": 12,
   "metadata": {},
   "outputs": [],
   "source": [
    "mlp.to_file(\"pickle_MLP.dat\")"
   ]
  },
  {
   "cell_type": "code",
   "execution_count": 13,
   "metadata": {},
   "outputs": [],
   "source": [
    "load_mlp = MLP.from_file(\"pickle_MLP.dat\")"
   ]
  },
  {
   "cell_type": "code",
   "execution_count": 14,
   "metadata": {},
   "outputs": [
    {
     "data": {
      "text/plain": [
       "[0.540351143988658, 0.459648856011342]"
      ]
     },
     "execution_count": 14,
     "metadata": {},
     "output_type": "execute_result"
    }
   ],
   "source": [
    "load_mlp.predict(X_train[6, :])"
   ]
  },
  {
   "cell_type": "code",
   "execution_count": null,
   "metadata": {},
   "outputs": [],
   "source": []
  }
 ],
 "metadata": {
  "kernelspec": {
   "display_name": "Python 3",
   "language": "python",
   "name": "python3"
  },
  "language_info": {
   "codemirror_mode": {
    "name": "ipython",
    "version": 3
   },
   "file_extension": ".py",
   "mimetype": "text/x-python",
   "name": "python",
   "nbconvert_exporter": "python",
   "pygments_lexer": "ipython3",
   "version": "3.7.7"
  }
 },
 "nbformat": 4,
 "nbformat_minor": 4
}
