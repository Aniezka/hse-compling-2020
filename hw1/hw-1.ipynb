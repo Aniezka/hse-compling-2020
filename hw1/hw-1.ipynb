{
 "cells": [
  {
   "cell_type": "markdown",
   "metadata": {
    "colab_type": "text",
    "id": "nzfD_Wk1ZN6L"
   },
   "source": [
    "# Домашнее задание №1\n",
    "\n",
    "### **Dataset of depressive posts in Russian language collected from social media** [(paper)](https://www.sciencedirect.com/science/article/pii/S2352340920300895)\n",
    "\n",
    "Скачать датасет в формате .tsv можно [здесь](https://yadi.sk/d/G5rq-R3AK8SOuw).\n",
    "\n",
    "\n",
    "В качестве задания предлагается:\n",
    "1. Использовать ```pandas``` и ряд инструментов для автоматической обработки текстов на русском языке, чтобы ответить на вопросы.\n",
    "2. Написать функции для извлечения текстовых признаков.\n",
    "\n",
    "Не рекомендуется использовать ```nltk``` для сегментации/токенизации текстов, поскольку существуют инструменты, которые выполняют свою задачу для русского значительно лучше – их мы обсуждали с вами на занятии.\n",
    "\n",
    "\n",
    "**Дедлайн**: 23 сентября 23:59"
   ]
  },
  {
   "cell_type": "code",
   "execution_count": 42,
   "metadata": {
    "colab": {
     "base_uri": "https://localhost:8080/",
     "height": 197
    },
    "colab_type": "code",
    "id": "9tsSaFBdgu1B",
    "outputId": "ab4f6872-15f1-4257-d370-0903ab9fc978"
   },
   "outputs": [
    {
     "data": {
      "text/html": [
       "<div>\n",
       "<style scoped>\n",
       "    .dataframe tbody tr th:only-of-type {\n",
       "        vertical-align: middle;\n",
       "    }\n",
       "\n",
       "    .dataframe tbody tr th {\n",
       "        vertical-align: top;\n",
       "    }\n",
       "\n",
       "    .dataframe thead th {\n",
       "        text-align: right;\n",
       "    }\n",
       "</style>\n",
       "<table border=\"1\" class=\"dataframe\">\n",
       "  <thead>\n",
       "    <tr style=\"text-align: right;\">\n",
       "      <th></th>\n",
       "      <th>text</th>\n",
       "      <th>label</th>\n",
       "      <th>age</th>\n",
       "    </tr>\n",
       "  </thead>\n",
       "  <tbody>\n",
       "    <tr>\n",
       "      <th>0</th>\n",
       "      <td>Когда-то я был добрым романтиком, который стре...</td>\n",
       "      <td>1</td>\n",
       "      <td>32.0</td>\n",
       "    </tr>\n",
       "    <tr>\n",
       "      <th>1</th>\n",
       "      <td>Здраствуйте! Я каждый день просыпаюсь с мыслью...</td>\n",
       "      <td>1</td>\n",
       "      <td>28.0</td>\n",
       "    </tr>\n",
       "    <tr>\n",
       "      <th>2</th>\n",
       "      <td>У меня проблемы с девушкой. Каждую ссору я не ...</td>\n",
       "      <td>1</td>\n",
       "      <td>16.0</td>\n",
       "    </tr>\n",
       "    <tr>\n",
       "      <th>3</th>\n",
       "      <td>Вся моя жизнь это один сплошной ад, в котором ...</td>\n",
       "      <td>1</td>\n",
       "      <td>32.0</td>\n",
       "    </tr>\n",
       "    <tr>\n",
       "      <th>4</th>\n",
       "      <td>Я хочу уснуть и не проснуться.каждый день одно...</td>\n",
       "      <td>1</td>\n",
       "      <td>14.0</td>\n",
       "    </tr>\n",
       "  </tbody>\n",
       "</table>\n",
       "</div>"
      ],
      "text/plain": [
       "                                                text  label   age\n",
       "0  Когда-то я был добрым романтиком, который стре...      1  32.0\n",
       "1  Здраствуйте! Я каждый день просыпаюсь с мыслью...      1  28.0\n",
       "2  У меня проблемы с девушкой. Каждую ссору я не ...      1  16.0\n",
       "3  Вся моя жизнь это один сплошной ад, в котором ...      1  32.0\n",
       "4  Я хочу уснуть и не проснуться.каждый день одно...      1  14.0"
      ]
     },
     "execution_count": 42,
     "metadata": {},
     "output_type": "execute_result"
    }
   ],
   "source": [
    "import pandas as pd\n",
    "\n",
    "\n",
    "df = pd.read_csv(\"depression_data.tsv\", sep=\"\\t\")\n",
    "df.head()"
   ]
  },
  {
   "cell_type": "markdown",
   "metadata": {
    "colab_type": "text",
    "id": "jgwa7XyGfuCI"
   },
   "source": [
    "### Часть 1: Простая статистика (2 балла)"
   ]
  },
  {
   "cell_type": "markdown",
   "metadata": {
    "colab_type": "text",
    "id": "YP1iOWbjh2zw"
   },
   "source": [
    "Зачастую в данных, с которыми вы работаете, может быть много неприятных для обработки вещей. Например, мы видим, что в колонке ```age``` очень грязные значения."
   ]
  },
  {
   "cell_type": "code",
   "execution_count": 43,
   "metadata": {
    "colab": {
     "base_uri": "https://localhost:8080/",
     "height": 244
    },
    "colab_type": "code",
    "id": "uDW6JMhwZuS8",
    "outputId": "5c8f2a9e-2d21-4b1d-9187-e3bc0eaa5db5"
   },
   "outputs": [
    {
     "data": {
      "text/plain": [
       "16.0      1823\n",
       "17.0      1811\n",
       "18.0      1661\n",
       "15.0      1582\n",
       "20.0      1543\n",
       "          ... \n",
       "116.0        1\n",
       "295.0        1\n",
       "2425.0       1\n",
       "92.0         1\n",
       "830.0        1\n",
       "Name: age, Length: 128, dtype: int64"
      ]
     },
     "execution_count": 43,
     "metadata": {},
     "output_type": "execute_result"
    }
   ],
   "source": [
    "df[\"age\"].value_counts()"
   ]
  },
  {
   "cell_type": "markdown",
   "metadata": {
    "colab_type": "text",
    "id": "5SqrBy6iloMd"
   },
   "source": [
    "1. Найдите среднее значение возраста в диапазоне от 14 до 50 лет включительно."
   ]
  },
  {
   "cell_type": "code",
   "execution_count": 44,
   "metadata": {
    "colab": {},
    "colab_type": "code",
    "id": "6AbzQhkakRfc"
   },
   "outputs": [
    {
     "data": {
      "text/plain": [
       "22.704171601526518"
      ]
     },
     "execution_count": 44,
     "metadata": {},
     "output_type": "execute_result"
    }
   ],
   "source": [
    "# your code and output here\n",
    "df[ (df[\"age\"] >= 14) & (df[\"age\"] <= 50) ].age.mean()"
   ]
  },
  {
   "cell_type": "markdown",
   "metadata": {
    "colab_type": "text",
    "id": "Pw5gpMkDk4R6"
   },
   "source": [
    "2. Какую долю 16-летние авторы составляют в диапазоне от 16 до 26 лет включительно?"
   ]
  },
  {
   "cell_type": "code",
   "execution_count": 45,
   "metadata": {
    "colab": {},
    "colab_type": "code",
    "id": "qXejPDLZj3eX"
   },
   "outputs": [
    {
     "data": {
      "text/plain": [
       "0.22603413544871095"
      ]
     },
     "execution_count": 45,
     "metadata": {},
     "output_type": "execute_result"
    }
   ],
   "source": [
    "# your code and output here\n",
    "len(df[ (df[\"age\"] >= 16) & (df[\"age\"] <= 26) ]) / df.shape[0]"
   ]
  },
  {
   "cell_type": "markdown",
   "metadata": {
    "colab_type": "text",
    "id": "vGinA-Swjvlc"
   },
   "source": [
    "3. Сколько в датасете текстов, авторам которых 28 или 30 лет?"
   ]
  },
  {
   "cell_type": "code",
   "execution_count": 46,
   "metadata": {
    "colab": {},
    "colab_type": "code",
    "id": "QNz0sLmjYLxr"
   },
   "outputs": [
    {
     "data": {
      "text/plain": [
       "1185"
      ]
     },
     "execution_count": 46,
     "metadata": {},
     "output_type": "execute_result"
    }
   ],
   "source": [
    "# your code and output here\n",
    "len(df[ (df[\"age\"]==28) | (df[\"age\"]==30) ])"
   ]
  },
  {
   "cell_type": "markdown",
   "metadata": {
    "colab_type": "text",
    "id": "WIiciL_BnJzl"
   },
   "source": [
    "4. С помощью одной встроенной в ```pandas``` функции отобразите всю статистику по колонке ```age``` в диапазоне от 18 до 30 лет включительно."
   ]
  },
  {
   "cell_type": "code",
   "execution_count": 47,
   "metadata": {
    "colab": {},
    "colab_type": "code",
    "id": "q2cC4Sxanka6"
   },
   "outputs": [
    {
     "data": {
      "text/plain": [
       "count    13205.000000\n",
       "mean        22.676638\n",
       "std          3.550254\n",
       "min         18.000000\n",
       "25%         20.000000\n",
       "50%         22.000000\n",
       "75%         25.000000\n",
       "max         30.000000\n",
       "Name: age, dtype: float64"
      ]
     },
     "execution_count": 47,
     "metadata": {},
     "output_type": "execute_result"
    }
   ],
   "source": [
    "# your code and output here\n",
    "df[ (df[\"age\"] >= 18) & (df[\"age\"] <= 30) ].age.describe()"
   ]
  },
  {
   "cell_type": "markdown",
   "metadata": {
    "colab_type": "text",
    "id": "CT99FXGjoGs1"
   },
   "source": [
    "5. Сколько в датасете положительных / отрицательных примеров?"
   ]
  },
  {
   "cell_type": "code",
   "execution_count": 48,
   "metadata": {
    "colab": {},
    "colab_type": "code",
    "id": "j-nelLWJoMpT"
   },
   "outputs": [
    {
     "name": "stdout",
     "output_type": "stream",
     "text": [
      "Положительных: 32018\n",
      "Отрицательных по значению: 0\n",
      "Отрицательных в смысле label==0: 32021\n"
     ]
    }
   ],
   "source": [
    "# your code and output here\n",
    "print(\"Положительных: \" + str(len(df[df.label > 0])))\n",
    "print(\"Отрицательных по значению: \" + str(len(df[df.label < 0])))\n",
    "print(\"Отрицательных в смысле label==0: \" + str(len(df[df.label == 0])))"
   ]
  },
  {
   "cell_type": "markdown",
   "metadata": {
    "colab_type": "text",
    "id": "QHldQF5FoAyB"
   },
   "source": [
    "### Часть 2: Предобработка (3 балла)"
   ]
  },
  {
   "cell_type": "markdown",
   "metadata": {
    "colab_type": "text",
    "id": "Mc1d4G-q671X"
   },
   "source": [
    "1. Посчитайте количество предложений в каждом тексте. Сохраните эти значения в отдельной колонке датафрейма."
   ]
  },
  {
   "cell_type": "code",
   "execution_count": 49,
   "metadata": {
    "colab": {},
    "colab_type": "code",
    "id": "HTni9dHd-NMz"
   },
   "outputs": [
    {
     "data": {
      "text/html": [
       "<div>\n",
       "<style scoped>\n",
       "    .dataframe tbody tr th:only-of-type {\n",
       "        vertical-align: middle;\n",
       "    }\n",
       "\n",
       "    .dataframe tbody tr th {\n",
       "        vertical-align: top;\n",
       "    }\n",
       "\n",
       "    .dataframe thead th {\n",
       "        text-align: right;\n",
       "    }\n",
       "</style>\n",
       "<table border=\"1\" class=\"dataframe\">\n",
       "  <thead>\n",
       "    <tr style=\"text-align: right;\">\n",
       "      <th></th>\n",
       "      <th>text</th>\n",
       "      <th>label</th>\n",
       "      <th>age</th>\n",
       "      <th>sent_num</th>\n",
       "    </tr>\n",
       "  </thead>\n",
       "  <tbody>\n",
       "    <tr>\n",
       "      <th>0</th>\n",
       "      <td>Когда-то я был добрым романтиком, который стре...</td>\n",
       "      <td>1</td>\n",
       "      <td>32.0</td>\n",
       "      <td>15</td>\n",
       "    </tr>\n",
       "    <tr>\n",
       "      <th>1</th>\n",
       "      <td>Здраствуйте! Я каждый день просыпаюсь с мыслью...</td>\n",
       "      <td>1</td>\n",
       "      <td>28.0</td>\n",
       "      <td>6</td>\n",
       "    </tr>\n",
       "    <tr>\n",
       "      <th>2</th>\n",
       "      <td>У меня проблемы с девушкой. Каждую ссору я не ...</td>\n",
       "      <td>1</td>\n",
       "      <td>16.0</td>\n",
       "      <td>10</td>\n",
       "    </tr>\n",
       "    <tr>\n",
       "      <th>3</th>\n",
       "      <td>Вся моя жизнь это один сплошной ад, в котором ...</td>\n",
       "      <td>1</td>\n",
       "      <td>32.0</td>\n",
       "      <td>5</td>\n",
       "    </tr>\n",
       "    <tr>\n",
       "      <th>4</th>\n",
       "      <td>Я хочу уснуть и не проснуться.каждый день одно...</td>\n",
       "      <td>1</td>\n",
       "      <td>14.0</td>\n",
       "      <td>18</td>\n",
       "    </tr>\n",
       "    <tr>\n",
       "      <th>...</th>\n",
       "      <td>...</td>\n",
       "      <td>...</td>\n",
       "      <td>...</td>\n",
       "      <td>...</td>\n",
       "    </tr>\n",
       "    <tr>\n",
       "      <th>64034</th>\n",
       "      <td>Южная Корея будет внедрять свои технологии в К...</td>\n",
       "      <td>0</td>\n",
       "      <td>NaN</td>\n",
       "      <td>1</td>\n",
       "    </tr>\n",
       "    <tr>\n",
       "      <th>64035</th>\n",
       "      <td>В минувшие выходные в спортблоке КалмГУ прошли...</td>\n",
       "      <td>0</td>\n",
       "      <td>NaN</td>\n",
       "      <td>6</td>\n",
       "    </tr>\n",
       "    <tr>\n",
       "      <th>64036</th>\n",
       "      <td>ВТБ подвел итоги первого корпоративного акселе...</td>\n",
       "      <td>0</td>\n",
       "      <td>NaN</td>\n",
       "      <td>19</td>\n",
       "    </tr>\n",
       "    <tr>\n",
       "      <th>64037</th>\n",
       "      <td>ВТБ запустит бесплатное пополнение карт других...</td>\n",
       "      <td>0</td>\n",
       "      <td>NaN</td>\n",
       "      <td>6</td>\n",
       "    </tr>\n",
       "    <tr>\n",
       "      <th>64038</th>\n",
       "      <td>В Сызрани вновь пройдет \"Ярмарка вакансий\" для...</td>\n",
       "      <td>0</td>\n",
       "      <td>NaN</td>\n",
       "      <td>6</td>\n",
       "    </tr>\n",
       "  </tbody>\n",
       "</table>\n",
       "<p>64039 rows × 4 columns</p>\n",
       "</div>"
      ],
      "text/plain": [
       "                                                    text  label   age  \\\n",
       "0      Когда-то я был добрым романтиком, который стре...      1  32.0   \n",
       "1      Здраствуйте! Я каждый день просыпаюсь с мыслью...      1  28.0   \n",
       "2      У меня проблемы с девушкой. Каждую ссору я не ...      1  16.0   \n",
       "3      Вся моя жизнь это один сплошной ад, в котором ...      1  32.0   \n",
       "4      Я хочу уснуть и не проснуться.каждый день одно...      1  14.0   \n",
       "...                                                  ...    ...   ...   \n",
       "64034  Южная Корея будет внедрять свои технологии в К...      0   NaN   \n",
       "64035  В минувшие выходные в спортблоке КалмГУ прошли...      0   NaN   \n",
       "64036  ВТБ подвел итоги первого корпоративного акселе...      0   NaN   \n",
       "64037  ВТБ запустит бесплатное пополнение карт других...      0   NaN   \n",
       "64038  В Сызрани вновь пройдет \"Ярмарка вакансий\" для...      0   NaN   \n",
       "\n",
       "       sent_num  \n",
       "0            15  \n",
       "1             6  \n",
       "2            10  \n",
       "3             5  \n",
       "4            18  \n",
       "...         ...  \n",
       "64034         1  \n",
       "64035         6  \n",
       "64036        19  \n",
       "64037         6  \n",
       "64038         6  \n",
       "\n",
       "[64039 rows x 4 columns]"
      ]
     },
     "execution_count": 49,
     "metadata": {},
     "output_type": "execute_result"
    }
   ],
   "source": [
    "# your code and output here\n",
    "from razdel import sentenize, tokenize\n",
    "\n",
    "def get_num_sentences(text):\n",
    "    segmented_sentences = sentenize(text)\n",
    "    num_sentences = len(list(segmented_sentences))\n",
    "    return num_sentences\n",
    "\n",
    "df[\"sent_num\"] = df[\"text\"].apply(get_num_sentences)\n",
    "df"
   ]
  },
  {
   "cell_type": "markdown",
   "metadata": {
    "colab_type": "text",
    "id": "NX7FxEafFTiy"
   },
   "source": [
    "2. Напишите функцию для токенизации текста. Удалите стоп-слова."
   ]
  },
  {
   "cell_type": "code",
   "execution_count": 50,
   "metadata": {
    "colab": {},
    "colab_type": "code",
    "id": "Y1S782xBFlIi"
   },
   "outputs": [
    {
     "data": {
      "text/html": [
       "<div>\n",
       "<style scoped>\n",
       "    .dataframe tbody tr th:only-of-type {\n",
       "        vertical-align: middle;\n",
       "    }\n",
       "\n",
       "    .dataframe tbody tr th {\n",
       "        vertical-align: top;\n",
       "    }\n",
       "\n",
       "    .dataframe thead th {\n",
       "        text-align: right;\n",
       "    }\n",
       "</style>\n",
       "<table border=\"1\" class=\"dataframe\">\n",
       "  <thead>\n",
       "    <tr style=\"text-align: right;\">\n",
       "      <th></th>\n",
       "      <th>text</th>\n",
       "      <th>label</th>\n",
       "      <th>age</th>\n",
       "      <th>sent_num</th>\n",
       "      <th>text_by_tokens</th>\n",
       "    </tr>\n",
       "  </thead>\n",
       "  <tbody>\n",
       "    <tr>\n",
       "      <th>0</th>\n",
       "      <td>Когда-то я был добрым романтиком, который стре...</td>\n",
       "      <td>1</td>\n",
       "      <td>32.0</td>\n",
       "      <td>15</td>\n",
       "      <td>[когдато, добрым, романтиком, стремился, помоч...</td>\n",
       "    </tr>\n",
       "    <tr>\n",
       "      <th>1</th>\n",
       "      <td>Здраствуйте! Я каждый день просыпаюсь с мыслью...</td>\n",
       "      <td>1</td>\n",
       "      <td>28.0</td>\n",
       "      <td>6</td>\n",
       "      <td>[здраствуйте, каждый, день, просыпаюсь, мыслью...</td>\n",
       "    </tr>\n",
       "    <tr>\n",
       "      <th>2</th>\n",
       "      <td>У меня проблемы с девушкой. Каждую ссору я не ...</td>\n",
       "      <td>1</td>\n",
       "      <td>16.0</td>\n",
       "      <td>10</td>\n",
       "      <td>[проблемы, девушкой, каждую, ссору, могу, пере...</td>\n",
       "    </tr>\n",
       "    <tr>\n",
       "      <th>3</th>\n",
       "      <td>Вся моя жизнь это один сплошной ад, в котором ...</td>\n",
       "      <td>1</td>\n",
       "      <td>32.0</td>\n",
       "      <td>5</td>\n",
       "      <td>[вся, жизнь, сплошной, ад, котором, горю, пост...</td>\n",
       "    </tr>\n",
       "    <tr>\n",
       "      <th>4</th>\n",
       "      <td>Я хочу уснуть и не проснуться.каждый день одно...</td>\n",
       "      <td>1</td>\n",
       "      <td>14.0</td>\n",
       "      <td>18</td>\n",
       "      <td>[хочу, уснуть, проснутьсякаждый, день, одно, к...</td>\n",
       "    </tr>\n",
       "    <tr>\n",
       "      <th>...</th>\n",
       "      <td>...</td>\n",
       "      <td>...</td>\n",
       "      <td>...</td>\n",
       "      <td>...</td>\n",
       "      <td>...</td>\n",
       "    </tr>\n",
       "    <tr>\n",
       "      <th>64034</th>\n",
       "      <td>Южная Корея будет внедрять свои технологии в К...</td>\n",
       "      <td>0</td>\n",
       "      <td>NaN</td>\n",
       "      <td>1</td>\n",
       "      <td>[южная, корея, внедрять, свои, технологии, каз...</td>\n",
       "    </tr>\n",
       "    <tr>\n",
       "      <th>64035</th>\n",
       "      <td>В минувшие выходные в спортблоке КалмГУ прошли...</td>\n",
       "      <td>0</td>\n",
       "      <td>NaN</td>\n",
       "      <td>6</td>\n",
       "      <td>[минувшие, выходные, спортблоке, калмгу, прошл...</td>\n",
       "    </tr>\n",
       "    <tr>\n",
       "      <th>64036</th>\n",
       "      <td>ВТБ подвел итоги первого корпоративного акселе...</td>\n",
       "      <td>0</td>\n",
       "      <td>NaN</td>\n",
       "      <td>19</td>\n",
       "      <td>[втб, подвел, итоги, первого, корпоративного, ...</td>\n",
       "    </tr>\n",
       "    <tr>\n",
       "      <th>64037</th>\n",
       "      <td>ВТБ запустит бесплатное пополнение карт других...</td>\n",
       "      <td>0</td>\n",
       "      <td>NaN</td>\n",
       "      <td>6</td>\n",
       "      <td>[втб, запустит, бесплатное, пополнение, карт, ...</td>\n",
       "    </tr>\n",
       "    <tr>\n",
       "      <th>64038</th>\n",
       "      <td>В Сызрани вновь пройдет \"Ярмарка вакансий\" для...</td>\n",
       "      <td>0</td>\n",
       "      <td>NaN</td>\n",
       "      <td>6</td>\n",
       "      <td>[сызрани, вновь, пройдет, ярмарка, вакансий, р...</td>\n",
       "    </tr>\n",
       "  </tbody>\n",
       "</table>\n",
       "<p>64039 rows × 5 columns</p>\n",
       "</div>"
      ],
      "text/plain": [
       "                                                    text  label   age  \\\n",
       "0      Когда-то я был добрым романтиком, который стре...      1  32.0   \n",
       "1      Здраствуйте! Я каждый день просыпаюсь с мыслью...      1  28.0   \n",
       "2      У меня проблемы с девушкой. Каждую ссору я не ...      1  16.0   \n",
       "3      Вся моя жизнь это один сплошной ад, в котором ...      1  32.0   \n",
       "4      Я хочу уснуть и не проснуться.каждый день одно...      1  14.0   \n",
       "...                                                  ...    ...   ...   \n",
       "64034  Южная Корея будет внедрять свои технологии в К...      0   NaN   \n",
       "64035  В минувшие выходные в спортблоке КалмГУ прошли...      0   NaN   \n",
       "64036  ВТБ подвел итоги первого корпоративного акселе...      0   NaN   \n",
       "64037  ВТБ запустит бесплатное пополнение карт других...      0   NaN   \n",
       "64038  В Сызрани вновь пройдет \"Ярмарка вакансий\" для...      0   NaN   \n",
       "\n",
       "       sent_num                                     text_by_tokens  \n",
       "0            15  [когдато, добрым, романтиком, стремился, помоч...  \n",
       "1             6  [здраствуйте, каждый, день, просыпаюсь, мыслью...  \n",
       "2            10  [проблемы, девушкой, каждую, ссору, могу, пере...  \n",
       "3             5  [вся, жизнь, сплошной, ад, котором, горю, пост...  \n",
       "4            18  [хочу, уснуть, проснутьсякаждый, день, одно, к...  \n",
       "...         ...                                                ...  \n",
       "64034         1  [южная, корея, внедрять, свои, технологии, каз...  \n",
       "64035         6  [минувшие, выходные, спортблоке, калмгу, прошл...  \n",
       "64036        19  [втб, подвел, итоги, первого, корпоративного, ...  \n",
       "64037         6  [втб, запустит, бесплатное, пополнение, карт, ...  \n",
       "64038         6  [сызрани, вновь, пройдет, ярмарка, вакансий, р...  \n",
       "\n",
       "[64039 rows x 5 columns]"
      ]
     },
     "execution_count": 50,
     "metadata": {},
     "output_type": "execute_result"
    }
   ],
   "source": [
    "# your code and output here\n",
    "from nltk.corpus import stopwords\n",
    "import string\n",
    "my_stop = stopwords.words('russian').copy()\n",
    "\n",
    "[my_stop.append(i) for i in [\"–\", \"—\", \"»\", \"«\", \"что-нибудь\", \"что-то\", \"который\", \"весь\", \"это\"]]\n",
    "\n",
    "def get_tokens(text):\n",
    "    text = text.lower()\n",
    "    text = text.translate(str.maketrans('', '', string.punctuation))\n",
    "    tokenized_text = list(tokenize(text))\n",
    "    words = [i.text for i in tokenized_text if i.text not in my_stop and not i.text.isdigit()]\n",
    "    return words\n",
    "\n",
    "df[\"text_by_tokens\"] = df[\"text\"].apply(get_tokens)\n",
    "df"
   ]
  },
  {
   "cell_type": "markdown",
   "metadata": {
    "colab_type": "text",
    "id": "HVq8if4s8q_1"
   },
   "source": [
    "3. Посчитайте количество токенов в тексте (без стоп-слов). Найдите среднее этих значений как по всей выборке, так и внутри каждого класса. "
   ]
  },
  {
   "cell_type": "code",
   "execution_count": 51,
   "metadata": {
    "colab": {},
    "colab_type": "code",
    "id": "rP8_BV3I-RPE"
   },
   "outputs": [
    {
     "data": {
      "text/html": [
       "<div>\n",
       "<style scoped>\n",
       "    .dataframe tbody tr th:only-of-type {\n",
       "        vertical-align: middle;\n",
       "    }\n",
       "\n",
       "    .dataframe tbody tr th {\n",
       "        vertical-align: top;\n",
       "    }\n",
       "\n",
       "    .dataframe thead th {\n",
       "        text-align: right;\n",
       "    }\n",
       "</style>\n",
       "<table border=\"1\" class=\"dataframe\">\n",
       "  <thead>\n",
       "    <tr style=\"text-align: right;\">\n",
       "      <th></th>\n",
       "      <th>text</th>\n",
       "      <th>label</th>\n",
       "      <th>age</th>\n",
       "      <th>sent_num</th>\n",
       "      <th>text_by_tokens</th>\n",
       "      <th>token_num</th>\n",
       "    </tr>\n",
       "  </thead>\n",
       "  <tbody>\n",
       "    <tr>\n",
       "      <th>0</th>\n",
       "      <td>Когда-то я был добрым романтиком, который стре...</td>\n",
       "      <td>1</td>\n",
       "      <td>32.0</td>\n",
       "      <td>15</td>\n",
       "      <td>[когдато, добрым, романтиком, стремился, помоч...</td>\n",
       "      <td>146</td>\n",
       "    </tr>\n",
       "    <tr>\n",
       "      <th>1</th>\n",
       "      <td>Здраствуйте! Я каждый день просыпаюсь с мыслью...</td>\n",
       "      <td>1</td>\n",
       "      <td>28.0</td>\n",
       "      <td>6</td>\n",
       "      <td>[здраствуйте, каждый, день, просыпаюсь, мыслью...</td>\n",
       "      <td>64</td>\n",
       "    </tr>\n",
       "    <tr>\n",
       "      <th>2</th>\n",
       "      <td>У меня проблемы с девушкой. Каждую ссору я не ...</td>\n",
       "      <td>1</td>\n",
       "      <td>16.0</td>\n",
       "      <td>10</td>\n",
       "      <td>[проблемы, девушкой, каждую, ссору, могу, пере...</td>\n",
       "      <td>43</td>\n",
       "    </tr>\n",
       "    <tr>\n",
       "      <th>3</th>\n",
       "      <td>Вся моя жизнь это один сплошной ад, в котором ...</td>\n",
       "      <td>1</td>\n",
       "      <td>32.0</td>\n",
       "      <td>5</td>\n",
       "      <td>[вся, жизнь, сплошной, ад, котором, горю, пост...</td>\n",
       "      <td>22</td>\n",
       "    </tr>\n",
       "    <tr>\n",
       "      <th>4</th>\n",
       "      <td>Я хочу уснуть и не проснуться.каждый день одно...</td>\n",
       "      <td>1</td>\n",
       "      <td>14.0</td>\n",
       "      <td>18</td>\n",
       "      <td>[хочу, уснуть, проснутьсякаждый, день, одно, к...</td>\n",
       "      <td>190</td>\n",
       "    </tr>\n",
       "    <tr>\n",
       "      <th>...</th>\n",
       "      <td>...</td>\n",
       "      <td>...</td>\n",
       "      <td>...</td>\n",
       "      <td>...</td>\n",
       "      <td>...</td>\n",
       "      <td>...</td>\n",
       "    </tr>\n",
       "    <tr>\n",
       "      <th>64034</th>\n",
       "      <td>Южная Корея будет внедрять свои технологии в К...</td>\n",
       "      <td>0</td>\n",
       "      <td>NaN</td>\n",
       "      <td>1</td>\n",
       "      <td>[южная, корея, внедрять, свои, технологии, каз...</td>\n",
       "      <td>23</td>\n",
       "    </tr>\n",
       "    <tr>\n",
       "      <th>64035</th>\n",
       "      <td>В минувшие выходные в спортблоке КалмГУ прошли...</td>\n",
       "      <td>0</td>\n",
       "      <td>NaN</td>\n",
       "      <td>6</td>\n",
       "      <td>[минувшие, выходные, спортблоке, калмгу, прошл...</td>\n",
       "      <td>64</td>\n",
       "    </tr>\n",
       "    <tr>\n",
       "      <th>64036</th>\n",
       "      <td>ВТБ подвел итоги первого корпоративного акселе...</td>\n",
       "      <td>0</td>\n",
       "      <td>NaN</td>\n",
       "      <td>19</td>\n",
       "      <td>[втб, подвел, итоги, первого, корпоративного, ...</td>\n",
       "      <td>221</td>\n",
       "    </tr>\n",
       "    <tr>\n",
       "      <th>64037</th>\n",
       "      <td>ВТБ запустит бесплатное пополнение карт других...</td>\n",
       "      <td>0</td>\n",
       "      <td>NaN</td>\n",
       "      <td>6</td>\n",
       "      <td>[втб, запустит, бесплатное, пополнение, карт, ...</td>\n",
       "      <td>97</td>\n",
       "    </tr>\n",
       "    <tr>\n",
       "      <th>64038</th>\n",
       "      <td>В Сызрани вновь пройдет \"Ярмарка вакансий\" для...</td>\n",
       "      <td>0</td>\n",
       "      <td>NaN</td>\n",
       "      <td>6</td>\n",
       "      <td>[сызрани, вновь, пройдет, ярмарка, вакансий, р...</td>\n",
       "      <td>50</td>\n",
       "    </tr>\n",
       "  </tbody>\n",
       "</table>\n",
       "<p>64039 rows × 6 columns</p>\n",
       "</div>"
      ],
      "text/plain": [
       "                                                    text  label   age  \\\n",
       "0      Когда-то я был добрым романтиком, который стре...      1  32.0   \n",
       "1      Здраствуйте! Я каждый день просыпаюсь с мыслью...      1  28.0   \n",
       "2      У меня проблемы с девушкой. Каждую ссору я не ...      1  16.0   \n",
       "3      Вся моя жизнь это один сплошной ад, в котором ...      1  32.0   \n",
       "4      Я хочу уснуть и не проснуться.каждый день одно...      1  14.0   \n",
       "...                                                  ...    ...   ...   \n",
       "64034  Южная Корея будет внедрять свои технологии в К...      0   NaN   \n",
       "64035  В минувшие выходные в спортблоке КалмГУ прошли...      0   NaN   \n",
       "64036  ВТБ подвел итоги первого корпоративного акселе...      0   NaN   \n",
       "64037  ВТБ запустит бесплатное пополнение карт других...      0   NaN   \n",
       "64038  В Сызрани вновь пройдет \"Ярмарка вакансий\" для...      0   NaN   \n",
       "\n",
       "       sent_num                                     text_by_tokens  token_num  \n",
       "0            15  [когдато, добрым, романтиком, стремился, помоч...        146  \n",
       "1             6  [здраствуйте, каждый, день, просыпаюсь, мыслью...         64  \n",
       "2            10  [проблемы, девушкой, каждую, ссору, могу, пере...         43  \n",
       "3             5  [вся, жизнь, сплошной, ад, котором, горю, пост...         22  \n",
       "4            18  [хочу, уснуть, проснутьсякаждый, день, одно, к...        190  \n",
       "...         ...                                                ...        ...  \n",
       "64034         1  [южная, корея, внедрять, свои, технологии, каз...         23  \n",
       "64035         6  [минувшие, выходные, спортблоке, калмгу, прошл...         64  \n",
       "64036        19  [втб, подвел, итоги, первого, корпоративного, ...        221  \n",
       "64037         6  [втб, запустит, бесплатное, пополнение, карт, ...         97  \n",
       "64038         6  [сызрани, вновь, пройдет, ярмарка, вакансий, р...         50  \n",
       "\n",
       "[64039 rows x 6 columns]"
      ]
     },
     "execution_count": 51,
     "metadata": {},
     "output_type": "execute_result"
    }
   ],
   "source": [
    "df[\"token_num\"] = df[\"text_by_tokens\"].apply(len)\n",
    "df"
   ]
  },
  {
   "cell_type": "code",
   "execution_count": 52,
   "metadata": {},
   "outputs": [
    {
     "data": {
      "text/plain": [
       "100.60449101328878"
      ]
     },
     "execution_count": 52,
     "metadata": {},
     "output_type": "execute_result"
    }
   ],
   "source": [
    "# среднее по выборке\n",
    "df.token_num.mean()"
   ]
  },
  {
   "cell_type": "code",
   "execution_count": 53,
   "metadata": {},
   "outputs": [
    {
     "data": {
      "text/plain": [
       "label\n",
       "0    134.351457\n",
       "1     66.854363\n",
       "Name: token_num, dtype: float64"
      ]
     },
     "execution_count": 53,
     "metadata": {},
     "output_type": "execute_result"
    }
   ],
   "source": [
    "# среднее внутри каждого класса (label)\n",
    "df.groupby(by=[\"label\"]).mean().token_num"
   ]
  },
  {
   "cell_type": "markdown",
   "metadata": {
    "colab_type": "text",
    "id": "xXsyP9NHG-gO"
   },
   "source": [
    "4. Напишите функцию, которая переводит текст в последовательность лемм."
   ]
  },
  {
   "cell_type": "code",
   "execution_count": 54,
   "metadata": {
    "colab": {},
    "colab_type": "code",
    "id": "n1o_Rh2iHDmH"
   },
   "outputs": [],
   "source": [
    "from pymorphy2 import MorphAnalyzer\n",
    "\n",
    "morph = MorphAnalyzer()\n",
    "\n",
    "def text_to_lemm(text):\n",
    "    tokenized_text = get_tokens(text)\n",
    "    lemm = [morph.parse(i)[0].normal_form for i in tokenized_text]\n",
    "    lemm = [i for i in lemm if i not in my_stop]\n",
    "    return lemm"
   ]
  },
  {
   "cell_type": "markdown",
   "metadata": {
    "colab_type": "text",
    "id": "D5kyEWTZ98r3"
   },
   "source": [
    "5. Напишите функцию, которая переводит текст в последовательность частеречных тегов."
   ]
  },
  {
   "cell_type": "code",
   "execution_count": 55,
   "metadata": {
    "colab": {},
    "colab_type": "code",
    "id": "83EABAwH756M"
   },
   "outputs": [],
   "source": [
    "def pos_tagging(text):\n",
    "    lemma_tokens = get_tokens(text)\n",
    "    pos_words = [morph.parse(word)[0].tag.POS for word in lemma_tokens]\n",
    "    return pos_words"
   ]
  },
  {
   "cell_type": "markdown",
   "metadata": {
    "colab_type": "text",
    "id": "d7VAjC4VHSyi"
   },
   "source": [
    "6. Какие слова мы можем добавить в список стоп-слов? Приведите примеры и объясните, почему."
   ]
  },
  {
   "cell_type": "code",
   "execution_count": 56,
   "metadata": {
    "colab": {},
    "colab_type": "code",
    "id": "bElLevUU-x7m"
   },
   "outputs": [
    {
     "name": "stdout",
     "output_type": "stream",
     "text": [
      "Добавлены следующие: – — » « что-нибудь что-то который весь это\n"
     ]
    }
   ],
   "source": [
    "# your code and output here\n",
    "print(\"Добавлены следующие: \" + \" \".join([i for i in my_stop if i not in stopwords.words('russian')]))"
   ]
  },
  {
   "cell_type": "markdown",
   "metadata": {},
   "source": [
    "Местоимения типа \"что-нибудь\"/\"что-то\"/\"который\"/\"весь\"/\"это\" в рассматриваемых данных не несут смысловой нагрузки и неважны для определения депрессивности/недепрессивности, поэтому такие слова стоит занести в список стоп-слов. Более того, \"что-нибудь\"/\"что-то\" стоит добавить ещё и потому, что они могут считаться как один токен, поэтому не удаляются стандартным stop words. Также, нужно занести в стоп-слова символы \"»\", \"«\", \"–\": в стандартном методе удаления пунктуации этих символов нет, поэтому добавляем в стоп-слова. "
   ]
  },
  {
   "cell_type": "markdown",
   "metadata": {
    "colab_type": "text",
    "id": "vcLlYOZfIWRX"
   },
   "source": [
    "### Часть 3: Визуализация (1 балл)"
   ]
  },
  {
   "cell_type": "markdown",
   "metadata": {
    "colab_type": "text",
    "id": "b9s_mHYIoOjg"
   },
   "source": [
    "1. Визуализируйте распределение количество предложений / текст."
   ]
  },
  {
   "cell_type": "code",
   "execution_count": 57,
   "metadata": {
    "colab": {},
    "colab_type": "code",
    "id": "CUgLhfWoIvKa"
   },
   "outputs": [
    {
     "data": {
      "text/plain": [
       "<matplotlib.axes._subplots.AxesSubplot at 0x7fb14c2f7a90>"
      ]
     },
     "execution_count": 57,
     "metadata": {},
     "output_type": "execute_result"
    },
    {
     "data": {
      "image/png": "[encoded data removed]",
      "text/plain": [
       "<Figure size 432x288 with 1 Axes>"
      ]
     },
     "metadata": {
      "needs_background": "light"
     },
     "output_type": "display_data"
    }
   ],
   "source": [
    "import matplotlib.pyplot as plt\n",
    "import seaborn as sns\n",
    "from warnings import simplefilter\n",
    "simplefilter(action='ignore', category=FutureWarning)\n",
    "\n",
    "sns.distplot(df.sent_num, bins=20, color=\"blue\")"
   ]
  },
  {
   "cell_type": "markdown",
   "metadata": {
    "colab_type": "text",
    "id": "PzPsrj36KJ7n"
   },
   "source": [
    "2. Визуализируйте распределение количество-предложений / текст внутри каждого класса."
   ]
  },
  {
   "cell_type": "code",
   "execution_count": 58,
   "metadata": {
    "colab": {},
    "colab_type": "code",
    "id": "z7R5719eV2Me"
   },
   "outputs": [
    {
     "data": {
      "image/png": "[encoded data removed]",
      "text/plain": [
       "<Figure size 1440x432 with 2 Axes>"
      ]
     },
     "metadata": {
      "needs_background": "light"
     },
     "output_type": "display_data"
    }
   ],
   "source": [
    "def plot_len_dist(df, col_name):\n",
    "    fig, axes = plt.subplots(1, 2, figsize=(20, 6))\n",
    "\n",
    "    for i, label in enumerate(list(df[\"label\"].unique())):\n",
    "        topic_subset = df[df[\"label\"] == label][col_name]\n",
    "\n",
    "        sns.distplot(topic_subset, bins=20, color=\"blue\", ax=axes[i])\n",
    "        axes[i].axvline(\n",
    "            (topic_subset).mean(), color=\"k\", linestyle=\"dashed\", linewidth=1, label=\"mean\"\n",
    "        )\n",
    "        axes[i].axvline(\n",
    "            (topic_subset).median(), color=\"r\", linestyle=\"dashed\", linewidth=1, label=\"median\"\n",
    "        )\n",
    "        axes[i].legend()\n",
    "        axes[i].set(title=\"Label = %s: %s column values\" % (label, col_name))\n",
    "    \n",
    "    fig.tight_layout()\n",
    "    \n",
    "plot_len_dist(df, \"sent_num\")"
   ]
  },
  {
   "cell_type": "markdown",
   "metadata": {
    "colab_type": "text",
    "id": "5zGMiWUBQKRi"
   },
   "source": [
    "3. Верно ли, что количество предложений в тексте коррелирует с возрастом автора в подвыборке от 16 до 32 лет включительно? Если да, какая это корреляция – положительная или отрицательная? Визуализируйте матрицу корреляции."
   ]
  },
  {
   "cell_type": "code",
   "execution_count": 59,
   "metadata": {
    "colab": {},
    "colab_type": "code",
    "id": "qAeNmcoqQi5x"
   },
   "outputs": [
    {
     "data": {
      "text/html": [
       "<div>\n",
       "<style scoped>\n",
       "    .dataframe tbody tr th:only-of-type {\n",
       "        vertical-align: middle;\n",
       "    }\n",
       "\n",
       "    .dataframe tbody tr th {\n",
       "        vertical-align: top;\n",
       "    }\n",
       "\n",
       "    .dataframe thead th {\n",
       "        text-align: right;\n",
       "    }\n",
       "</style>\n",
       "<table border=\"1\" class=\"dataframe\">\n",
       "  <thead>\n",
       "    <tr style=\"text-align: right;\">\n",
       "      <th></th>\n",
       "      <th>age</th>\n",
       "      <th>sent_num</th>\n",
       "    </tr>\n",
       "  </thead>\n",
       "  <tbody>\n",
       "    <tr>\n",
       "      <th>0</th>\n",
       "      <td>32.0</td>\n",
       "      <td>15</td>\n",
       "    </tr>\n",
       "    <tr>\n",
       "      <th>1</th>\n",
       "      <td>28.0</td>\n",
       "      <td>6</td>\n",
       "    </tr>\n",
       "    <tr>\n",
       "      <th>2</th>\n",
       "      <td>16.0</td>\n",
       "      <td>10</td>\n",
       "    </tr>\n",
       "    <tr>\n",
       "      <th>3</th>\n",
       "      <td>32.0</td>\n",
       "      <td>5</td>\n",
       "    </tr>\n",
       "    <tr>\n",
       "      <th>7</th>\n",
       "      <td>18.0</td>\n",
       "      <td>5</td>\n",
       "    </tr>\n",
       "    <tr>\n",
       "      <th>...</th>\n",
       "      <td>...</td>\n",
       "      <td>...</td>\n",
       "    </tr>\n",
       "    <tr>\n",
       "      <th>24514</th>\n",
       "      <td>18.0</td>\n",
       "      <td>22</td>\n",
       "    </tr>\n",
       "    <tr>\n",
       "      <th>24515</th>\n",
       "      <td>23.0</td>\n",
       "      <td>5</td>\n",
       "    </tr>\n",
       "    <tr>\n",
       "      <th>24516</th>\n",
       "      <td>23.0</td>\n",
       "      <td>7</td>\n",
       "    </tr>\n",
       "    <tr>\n",
       "      <th>24517</th>\n",
       "      <td>19.0</td>\n",
       "      <td>1</td>\n",
       "    </tr>\n",
       "    <tr>\n",
       "      <th>24518</th>\n",
       "      <td>19.0</td>\n",
       "      <td>1</td>\n",
       "    </tr>\n",
       "  </tbody>\n",
       "</table>\n",
       "<p>17488 rows × 2 columns</p>\n",
       "</div>"
      ],
      "text/plain": [
       "        age  sent_num\n",
       "0      32.0        15\n",
       "1      28.0         6\n",
       "2      16.0        10\n",
       "3      32.0         5\n",
       "7      18.0         5\n",
       "...     ...       ...\n",
       "24514  18.0        22\n",
       "24515  23.0         5\n",
       "24516  23.0         7\n",
       "24517  19.0         1\n",
       "24518  19.0         1\n",
       "\n",
       "[17488 rows x 2 columns]"
      ]
     },
     "execution_count": 59,
     "metadata": {},
     "output_type": "execute_result"
    }
   ],
   "source": [
    "depth_df = pd.DataFrame(df, columns=[\"age\", \"sent_num\"])\n",
    "depth_df = depth_df[ (depth_df.age >= 16) & (depth_df.age <= 32) ]\n",
    "depth_df"
   ]
  },
  {
   "cell_type": "markdown",
   "metadata": {},
   "source": [
    "Нет, возраст автора в этих пределах почти никак не коррелирует с количеством предложений в тексте (corr ~ 0):"
   ]
  },
  {
   "cell_type": "code",
   "execution_count": 60,
   "metadata": {},
   "outputs": [
    {
     "data": {
      "text/html": [
       "<div>\n",
       "<style scoped>\n",
       "    .dataframe tbody tr th:only-of-type {\n",
       "        vertical-align: middle;\n",
       "    }\n",
       "\n",
       "    .dataframe tbody tr th {\n",
       "        vertical-align: top;\n",
       "    }\n",
       "\n",
       "    .dataframe thead th {\n",
       "        text-align: right;\n",
       "    }\n",
       "</style>\n",
       "<table border=\"1\" class=\"dataframe\">\n",
       "  <thead>\n",
       "    <tr style=\"text-align: right;\">\n",
       "      <th></th>\n",
       "      <th>age</th>\n",
       "      <th>sent_num</th>\n",
       "    </tr>\n",
       "  </thead>\n",
       "  <tbody>\n",
       "    <tr>\n",
       "      <th>age</th>\n",
       "      <td>1.000000</td>\n",
       "      <td>0.039831</td>\n",
       "    </tr>\n",
       "    <tr>\n",
       "      <th>sent_num</th>\n",
       "      <td>0.039831</td>\n",
       "      <td>1.000000</td>\n",
       "    </tr>\n",
       "  </tbody>\n",
       "</table>\n",
       "</div>"
      ],
      "text/plain": [
       "               age  sent_num\n",
       "age       1.000000  0.039831\n",
       "sent_num  0.039831  1.000000"
      ]
     },
     "execution_count": 60,
     "metadata": {},
     "output_type": "execute_result"
    }
   ],
   "source": [
    "depth_df.corr()"
   ]
  },
  {
   "cell_type": "markdown",
   "metadata": {
    "colab_type": "text",
    "id": "nBpo_1O5Ld7H"
   },
   "source": [
    "### Часть 4: Извлечение текстовых признаков (4 балла)"
   ]
  },
  {
   "cell_type": "markdown",
   "metadata": {
    "colab_type": "text",
    "id": "oqZUzenfL2sF"
   },
   "source": [
    "1. Самостоятельно реализуйте функцию для получения посимвольных н-грамм (без использования библиотек)."
   ]
  },
  {
   "cell_type": "code",
   "execution_count": 61,
   "metadata": {
    "colab": {},
    "colab_type": "code",
    "id": "UOOp61e1MCU-"
   },
   "outputs": [],
   "source": [
    "def char_ngrams(text: str, n=2):\n",
    "    result=[]\n",
    "    count=0\n",
    "    for token in text[:len(text) - n + 1]:  \n",
    "        result.append(text[count:count + n])  \n",
    "        count += 1 \n",
    "    return result"
   ]
  },
  {
   "cell_type": "code",
   "execution_count": 62,
   "metadata": {
    "colab": {
     "base_uri": "https://localhost:8080/",
     "height": 34
    },
    "colab_type": "code",
    "id": "LctAR2cEMV0s",
    "outputId": "583c32a5-4efd-4686-97e9-b266350c0af5"
   },
   "outputs": [
    {
     "data": {
      "text/plain": [
       "['уст', 'ста', 'тав', 'авш', 'вша', 'шая', 'ая ', 'я м', ' ма', 'мам']"
      ]
     },
     "execution_count": 62,
     "metadata": {},
     "output_type": "execute_result"
    }
   ],
   "source": [
    "# пример работы функции\n",
    "\n",
    "text = \"уставшая мама мыла грязную раму\"\n",
    "\n",
    "char_ngrams(text, n=3)[:10]"
   ]
  },
  {
   "cell_type": "markdown",
   "metadata": {
    "colab_type": "text",
    "id": "CnPgflCeNsZA"
   },
   "source": [
    "2. Самостоятельно реализуйте функцию для получения пословных н-грамм (без использования библиотек)."
   ]
  },
  {
   "cell_type": "code",
   "execution_count": 63,
   "metadata": {
    "colab": {},
    "colab_type": "code",
    "id": "fX_6RyMFOGL2"
   },
   "outputs": [],
   "source": [
    "def word_ngrams(text: str, n=2):\n",
    "    text = list(get_tokens(text))\n",
    "    result=[]\n",
    "    count=0\n",
    "    for token in text[:len(text) - n + 1]:  \n",
    "        result.append(text[count:count + n])  \n",
    "        count += 1 \n",
    "    return result"
   ]
  },
  {
   "cell_type": "code",
   "execution_count": 64,
   "metadata": {},
   "outputs": [
    {
     "data": {
      "text/plain": [
       "[['уставшая', 'мама', 'мыла'],\n",
       " ['мама', 'мыла', 'грязную'],\n",
       " ['мыла', 'грязную', 'раму']]"
      ]
     },
     "execution_count": 64,
     "metadata": {},
     "output_type": "execute_result"
    }
   ],
   "source": [
    "# пример работы функции\n",
    "\n",
    "word_ngrams(text, n=3)"
   ]
  },
  {
   "cell_type": "code",
   "execution_count": 65,
   "metadata": {
    "colab": {
     "base_uri": "https://localhost:8080/",
     "height": 34
    },
    "colab_type": "code",
    "id": "anLUGeXROekT",
    "outputId": "ed3a30af-d19e-48c5-abe6-4605ef6dcca6"
   },
   "outputs": [
    {
     "data": {
      "text/plain": [
       "[['уставшая', 'мама', 'мыла', 'грязную'], ['мама', 'мыла', 'грязную', 'раму']]"
      ]
     },
     "execution_count": 65,
     "metadata": {},
     "output_type": "execute_result"
    }
   ],
   "source": [
    "word_ngrams(text, n=4)"
   ]
  },
  {
   "cell_type": "markdown",
   "metadata": {
    "colab_type": "text",
    "id": "zU4PJTZVOvcQ"
   },
   "source": [
    "3. Самостоятельно реализуйте функцию для получения н-грамм лемм (без использования библиотек)."
   ]
  },
  {
   "cell_type": "code",
   "execution_count": 66,
   "metadata": {
    "colab": {},
    "colab_type": "code",
    "id": "dgWG3NdLO0JF"
   },
   "outputs": [],
   "source": [
    "def lemma_ngrams(text: str, n=2):\n",
    "    text = text_to_lemm(text)\n",
    "    result=[]\n",
    "    count=0\n",
    "    for token in text[:len(text) - n + 1]:  \n",
    "        result.append(text[count:count + n])  \n",
    "        count += 1 \n",
    "    return result"
   ]
  },
  {
   "cell_type": "code",
   "execution_count": 67,
   "metadata": {
    "colab": {
     "base_uri": "https://localhost:8080/",
     "height": 70
    },
    "colab_type": "code",
    "id": "BfER14VDO8I3",
    "outputId": "97d6a053-3376-47e2-9489-ca9fd612140b"
   },
   "outputs": [
    {
     "data": {
      "text/plain": [
       "[['устать', 'мама', 'мыло'],\n",
       " ['мама', 'мыло', 'грязный'],\n",
       " ['мыло', 'грязный', 'рам']]"
      ]
     },
     "execution_count": 67,
     "metadata": {},
     "output_type": "execute_result"
    }
   ],
   "source": [
    "# пример работы функции\n",
    "\n",
    "lemma_ngrams(text, n=3)"
   ]
  },
  {
   "cell_type": "code",
   "execution_count": 68,
   "metadata": {
    "colab": {
     "base_uri": "https://localhost:8080/",
     "height": 52
    },
    "colab_type": "code",
    "id": "k1XmkQ_rO_p1",
    "outputId": "99a26cb6-ca99-427c-ddc4-c901e3f184a1"
   },
   "outputs": [
    {
     "data": {
      "text/plain": [
       "[['устать', 'мама', 'мыло', 'грязный'], ['мама', 'мыло', 'грязный', 'рам']]"
      ]
     },
     "execution_count": 68,
     "metadata": {},
     "output_type": "execute_result"
    }
   ],
   "source": [
    "lemma_ngrams(text, n=4)"
   ]
  },
  {
   "cell_type": "markdown",
   "metadata": {
    "colab_type": "text",
    "id": "LHUo6LdLOblj"
   },
   "source": [
    "4. Самостоятельно реализуйте функцию для получения н-грамм частеречных тегов (без использования библиотек)."
   ]
  },
  {
   "cell_type": "code",
   "execution_count": 69,
   "metadata": {
    "colab": {},
    "colab_type": "code",
    "id": "YlPDRUCcOoCX"
   },
   "outputs": [],
   "source": [
    "def pos_ngrams(text: str, n=2):\n",
    "    text = list(pos_tagging(text))\n",
    "    result=[]\n",
    "    count=0\n",
    "    for token in text[:len(text) - n + 1]:  \n",
    "        result.append(text[count:count + n])  \n",
    "        count += 1 \n",
    "    return result"
   ]
  },
  {
   "cell_type": "code",
   "execution_count": 70,
   "metadata": {
    "colab": {
     "base_uri": "https://localhost:8080/",
     "height": 34
    },
    "colab_type": "code",
    "id": "a4kQmEqiPHPv",
    "outputId": "ede469bd-8410-4c03-f361-42887601fc9f"
   },
   "outputs": [
    {
     "data": {
      "text/plain": [
       "[['PRTF', 'NOUN', 'NOUN'], ['NOUN', 'NOUN', 'ADJF'], ['NOUN', 'ADJF', 'NOUN']]"
      ]
     },
     "execution_count": 70,
     "metadata": {},
     "output_type": "execute_result"
    }
   ],
   "source": [
    "# пример работы функции\n",
    "\n",
    "pos_ngrams(text, n=3)"
   ]
  },
  {
   "cell_type": "code",
   "execution_count": 71,
   "metadata": {
    "colab": {
     "base_uri": "https://localhost:8080/",
     "height": 34
    },
    "colab_type": "code",
    "id": "iBh5fRbOPKsn",
    "outputId": "e4fdb66d-2f6e-4558-9072-7536adea29b2"
   },
   "outputs": [
    {
     "data": {
      "text/plain": [
       "[['PRTF', 'NOUN', 'NOUN', 'ADJF'], ['NOUN', 'NOUN', 'ADJF', 'NOUN']]"
      ]
     },
     "execution_count": 71,
     "metadata": {},
     "output_type": "execute_result"
    }
   ],
   "source": [
    "pos_ngrams(text, n=4)"
   ]
  },
  {
   "cell_type": "markdown",
   "metadata": {
    "colab_type": "text",
    "id": "ZnUBQ6hLPNb3"
   },
   "source": [
    "5. Самостоятельно реализуйте функцию для получения частотного словаря частеречных тегов по коллекции документов."
   ]
  },
  {
   "cell_type": "code",
   "execution_count": 72,
   "metadata": {
    "colab": {},
    "colab_type": "code",
    "id": "P69DZahVPctr"
   },
   "outputs": [],
   "source": [
    "def build_pos_dict(corpus):\n",
    "    pos_d = dict()\n",
    "    for doc in corpus:\n",
    "        for pos in pos_tagging(doc):\n",
    "            if pos in pos_d.keys():\n",
    "                pos_d[pos] += 1\n",
    "            else:\n",
    "                pos_d[pos] = 1\n",
    "    return pos_d"
   ]
  },
  {
   "cell_type": "code",
   "execution_count": 73,
   "metadata": {},
   "outputs": [
    {
     "data": {
      "text/plain": [
       "{'NOUN': 7, 'PRTF': 1, 'ADJF': 2, 'VERB': 1}"
      ]
     },
     "execution_count": 73,
     "metadata": {},
     "output_type": "execute_result"
    }
   ],
   "source": [
    "# пример работы функции\n",
    "\n",
    "corpus = [\n",
    "    \"мама мыла уставшую раму\",\n",
    "    \"высшая школа экономики\",\n",
    "    \"компьютерная лингвистика\",\n",
    "    \"осень наступила\"\n",
    "]\n",
    "\n",
    "build_pos_dict(corpus)"
   ]
  },
  {
   "cell_type": "markdown",
   "metadata": {
    "colab_type": "text",
    "id": "yb_mcJ8sSr3-"
   },
   "source": [
    "6. Постройте частотный словарь лемм по текстам внутри каждого класса. Найдите топ-15 лемм для текстов каждого класса. Есть ли между этими списками пересечение? Если да, сколько лемм пересекается?"
   ]
  },
  {
   "cell_type": "code",
   "execution_count": 74,
   "metadata": {
    "colab": {},
    "colab_type": "code",
    "id": "nP6_MZbHTLtf"
   },
   "outputs": [
    {
     "name": "stderr",
     "output_type": "stream",
     "text": [
      "100%|██████████| 1000/1000 [00:02<00:00, 398.91it/s]\n",
      "100%|██████████| 1000/1000 [00:04<00:00, 209.78it/s]"
     ]
    },
    {
     "name": "stdout",
     "output_type": "stream",
     "text": [
      "top 15 по каждому классу (1 или 0) исходя из 1000 текстов по каждому:\n",
      "\n",
      "Label = 1: [['работа', 357], ['делать', 358], ['день', 360], ['друг', 372], ['мама', 432], ['просто', 482], ['свой', 496], ['человек', 509], ['знать', 540], ['очень', 661], ['мочь', 727], ['жизнь', 752], ['хотеть', 816], ['жить', 848], ['год', 966]]\n",
      "\n",
      "Label = 0: [['район', 356], ['ребёнок', 358], ['день', 362], ['компания', 366], ['апрель', 372], ['город', 412], ['также', 431], ['работа', 437], ['наш', 447], ['проект', 458], ['казахстан', 474], ['свой', 486], ['россия', 497], ['область', 510], ['год', 1467]]\n",
      "\n",
      "Пересечение: [['делать', 358], ['друг', 372]]\n",
      "Число пересекающихся лемм: 2\n"
     ]
    },
    {
     "name": "stderr",
     "output_type": "stream",
     "text": [
      "\n"
     ]
    }
   ],
   "source": [
    "from tqdm import tqdm\n",
    "\n",
    "\n",
    "def build_lemm_dict_topn(corpus: list, n=15):\n",
    "    lemma_d = dict()\n",
    "    \n",
    "    for doc in tqdm(corpus):\n",
    "        for lemma in text_to_lemm(doc):\n",
    "            if lemma in lemma_d.keys():\n",
    "                lemma_d[lemma] += 1\n",
    "            else:\n",
    "                lemma_d[lemma] = 1\n",
    "    top_n = sorted([[k, v] for k, v in lemma_d.items()], key=lambda x: x[1])[-15:]\n",
    "    return top_n\n",
    "\n",
    "global_text_num = 1000\n",
    "top_15_depres = build_lemm_dict_topn(list(df[df['label'] == 1].text[:global_text_num]))\n",
    "\n",
    "top_15_not_depres = build_lemm_dict_topn(list(df[df['label'] == 0].text[:global_text_num]))\n",
    "\n",
    "print(\"top 15 по каждому классу (1 или 0) исходя из 1000 текстов по каждому:\\n\")\n",
    "print(\"Label = 1: \" + str(top_15_depres))\n",
    "print()\n",
    "print(\"Label = 0: \" + str(top_15_not_depres))\n",
    "print()\n",
    "print(\"Пересечение: \" + str([i for i in top_15_depres for j in top_15_not_depres if i[1] == j[1]]))\n",
    "print(\"Число пересекающихся лемм: \" + str(len([i for i in top_15_depres for j in top_15_not_depres if i[1] == j[1]])))"
   ]
  },
  {
   "cell_type": "markdown",
   "metadata": {
    "colab_type": "text",
    "id": "AqfZJ4csRSxZ"
   },
   "source": [
    "7. Какие текстовые признаки могли бы быть полезными для решения задачи классификации на этих данных? Приведите примеры и перечислите ресурсы, которые вы бы использовали для конструирования этих признаков."
   ]
  },
  {
   "cell_type": "markdown",
   "metadata": {
    "colab": {},
    "colab_type": "code",
    "id": "4T5Rdx1HRjWX"
   },
   "source": [
    "Наличие определённых слов, отражающих тональность текста, например, с помощью инструмента \"from nltk.sentiment.vader import SentimentIntensityAnalyzer\", можно каждому слову поставить число в интервале [-1, 1], которое отражает степень его \"негативности\" (если ближе к -1) или \"позитивности\" (если ближе к 1). Также можно 1) выделить количество слов в текстах, которые являются маркерами депрессии (https://www.frontiersin.org/articles/10.3389/fpsyg.20..); 2) провести анализ тональности на материале эмодзи (https://github.com/sInceraSs/ELSA); 3) реализовать topic modelling - произвести суммаризацию с помощью LDA на материале текстов (from sklearn.decomposition import LatentDirichletAllocation (example https://github.com/kapadias/mediumposts/blob/master/n..)); 4) с помощью фреймворка Author2Vec (https://arxiv.org/pdf/2003.11627.pdf) получить эмбеддинги юзеров; 5) поработать с такими текстовыми признаками: n-граммы (длиной 1/2/3), метаданные n-грамм (общее количество 1-грамм для юзера); 6) произвести анализ с помощью словаря LIWC (Linguistic Inquiry and Word Count) - отсылка к самому себе, параметр \"злость\" и др."
   ]
  },
  {
   "cell_type": "code",
   "execution_count": null,
   "metadata": {},
   "outputs": [],
   "source": []
  }
 ],
 "metadata": {
  "colab": {
   "collapsed_sections": [],
   "name": "hw_01.ipynb",
   "provenance": []
  },
  "kernelspec": {
   "display_name": "Python 3",
   "language": "python",
   "name": "python3"
  },
  "language_info": {
   "codemirror_mode": {
    "name": "ipython",
    "version": 3
   },
   "file_extension": ".py",
   "mimetype": "text/x-python",
   "name": "python",
   "nbconvert_exporter": "python",
   "pygments_lexer": "ipython3",
   "version": "3.7.7"
  }
 },
 "nbformat": 4,
 "nbformat_minor": 1
}
